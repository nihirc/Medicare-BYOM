{
 "cells": [
  {
   "cell_type": "markdown",
   "id": "f913f513-b703-40df-917b-225cbf94995d",
   "metadata": {},
   "source": [
    "# Bring your own Model"
   ]
  },
  {
   "cell_type": "markdown",
   "id": "cd2ba270-a185-492f-a8e9-abaee9388c54",
   "metadata": {},
   "source": [
    "# Data Preprocessing on the Raw Dataset:\n",
    "In this section we read the raw csv data set into a pandas data frame. We inspect the data using pandas head() function. We do data pre-processing using feature encoding, feature engineering, column renaming, dropping some columns that have no relevance to the prediction of `Avg_Hosp` cost and examining there are no missing values in the data set"
   ]
  },
  {
   "cell_type": "code",
   "execution_count": 2,
   "id": "483d3616-2860-4664-b56f-f23cb5ac8848",
   "metadata": {},
   "outputs": [
    {
     "data": {
      "text/html": [
       "<div>\n",
       "<style scoped>\n",
       "    .dataframe tbody tr th:only-of-type {\n",
       "        vertical-align: middle;\n",
       "    }\n",
       "\n",
       "    .dataframe tbody tr th {\n",
       "        vertical-align: top;\n",
       "    }\n",
       "\n",
       "    .dataframe thead th {\n",
       "        text-align: right;\n",
       "    }\n",
       "</style>\n",
       "<table border=\"1\" class=\"dataframe\">\n",
       "  <thead>\n",
       "    <tr style=\"text-align: right;\">\n",
       "      <th></th>\n",
       "      <th>Facility ID</th>\n",
       "      <th>Facility Name</th>\n",
       "      <th>State</th>\n",
       "      <th>Period</th>\n",
       "      <th>Claim Type</th>\n",
       "      <th>Avg Spending Per Episode Hospital</th>\n",
       "      <th>Avg Spending Per Episode State</th>\n",
       "      <th>Avg Spending Per Episode Nation</th>\n",
       "      <th>Percent of Spending Hospital</th>\n",
       "      <th>Percent of Spending State</th>\n",
       "      <th>Percent of Spending Nation</th>\n",
       "      <th>Start Date</th>\n",
       "      <th>End Date</th>\n",
       "    </tr>\n",
       "  </thead>\n",
       "  <tbody>\n",
       "    <tr>\n",
       "      <th>0</th>\n",
       "      <td>670102</td>\n",
       "      <td>AD HOSPITAL EAST LLC</td>\n",
       "      <td>TX</td>\n",
       "      <td>1 to 3 days Prior to Index Hospital Admission</td>\n",
       "      <td>Hospice</td>\n",
       "      <td>0</td>\n",
       "      <td>1</td>\n",
       "      <td>1</td>\n",
       "      <td>0.00%</td>\n",
       "      <td>0.00%</td>\n",
       "      <td>0.00%</td>\n",
       "      <td>01/01/2018</td>\n",
       "      <td>12/31/2018</td>\n",
       "    </tr>\n",
       "    <tr>\n",
       "      <th>1</th>\n",
       "      <td>670102</td>\n",
       "      <td>AD HOSPITAL EAST LLC</td>\n",
       "      <td>TX</td>\n",
       "      <td>1 to 3 days Prior to Index Hospital Admission</td>\n",
       "      <td>Inpatient</td>\n",
       "      <td>0</td>\n",
       "      <td>7</td>\n",
       "      <td>7</td>\n",
       "      <td>0.00%</td>\n",
       "      <td>0.03%</td>\n",
       "      <td>0.03%</td>\n",
       "      <td>01/01/2018</td>\n",
       "      <td>12/31/2018</td>\n",
       "    </tr>\n",
       "    <tr>\n",
       "      <th>2</th>\n",
       "      <td>670102</td>\n",
       "      <td>AD HOSPITAL EAST LLC</td>\n",
       "      <td>TX</td>\n",
       "      <td>1 to 3 days Prior to Index Hospital Admission</td>\n",
       "      <td>Outpatient</td>\n",
       "      <td>48</td>\n",
       "      <td>140</td>\n",
       "      <td>152</td>\n",
       "      <td>0.17%</td>\n",
       "      <td>0.60%</td>\n",
       "      <td>0.70%</td>\n",
       "      <td>01/01/2018</td>\n",
       "      <td>12/31/2018</td>\n",
       "    </tr>\n",
       "    <tr>\n",
       "      <th>3</th>\n",
       "      <td>670102</td>\n",
       "      <td>AD HOSPITAL EAST LLC</td>\n",
       "      <td>TX</td>\n",
       "      <td>1 to 3 days Prior to Index Hospital Admission</td>\n",
       "      <td>Skilled Nursing Facility</td>\n",
       "      <td>0</td>\n",
       "      <td>3</td>\n",
       "      <td>2</td>\n",
       "      <td>0.00%</td>\n",
       "      <td>0.01%</td>\n",
       "      <td>0.01%</td>\n",
       "      <td>01/01/2018</td>\n",
       "      <td>12/31/2018</td>\n",
       "    </tr>\n",
       "    <tr>\n",
       "      <th>4</th>\n",
       "      <td>670102</td>\n",
       "      <td>AD HOSPITAL EAST LLC</td>\n",
       "      <td>TX</td>\n",
       "      <td>1 to 3 days Prior to Index Hospital Admission</td>\n",
       "      <td>Durable Medical Equipment</td>\n",
       "      <td>0</td>\n",
       "      <td>8</td>\n",
       "      <td>8</td>\n",
       "      <td>0.00%</td>\n",
       "      <td>0.03%</td>\n",
       "      <td>0.04%</td>\n",
       "      <td>01/01/2018</td>\n",
       "      <td>12/31/2018</td>\n",
       "    </tr>\n",
       "  </tbody>\n",
       "</table>\n",
       "</div>"
      ],
      "text/plain": [
       "   Facility ID         Facility Name State  \\\n",
       "0       670102  AD HOSPITAL EAST LLC    TX   \n",
       "1       670102  AD HOSPITAL EAST LLC    TX   \n",
       "2       670102  AD HOSPITAL EAST LLC    TX   \n",
       "3       670102  AD HOSPITAL EAST LLC    TX   \n",
       "4       670102  AD HOSPITAL EAST LLC    TX   \n",
       "\n",
       "                                          Period                 Claim Type  \\\n",
       "0  1 to 3 days Prior to Index Hospital Admission                    Hospice   \n",
       "1  1 to 3 days Prior to Index Hospital Admission                  Inpatient   \n",
       "2  1 to 3 days Prior to Index Hospital Admission                 Outpatient   \n",
       "3  1 to 3 days Prior to Index Hospital Admission   Skilled Nursing Facility   \n",
       "4  1 to 3 days Prior to Index Hospital Admission  Durable Medical Equipment   \n",
       "\n",
       "   Avg Spending Per Episode Hospital  Avg Spending Per Episode State  \\\n",
       "0                                  0                               1   \n",
       "1                                  0                               7   \n",
       "2                                 48                             140   \n",
       "3                                  0                               3   \n",
       "4                                  0                               8   \n",
       "\n",
       "   Avg Spending Per Episode Nation Percent of Spending Hospital  \\\n",
       "0                                1                        0.00%   \n",
       "1                                7                        0.00%   \n",
       "2                              152                        0.17%   \n",
       "3                                2                        0.00%   \n",
       "4                                8                        0.00%   \n",
       "\n",
       "  Percent of Spending State Percent of Spending Nation  Start Date    End Date  \n",
       "0                     0.00%                      0.00%  01/01/2018  12/31/2018  \n",
       "1                     0.03%                      0.03%  01/01/2018  12/31/2018  \n",
       "2                     0.60%                      0.70%  01/01/2018  12/31/2018  \n",
       "3                     0.01%                      0.01%  01/01/2018  12/31/2018  \n",
       "4                     0.03%                      0.04%  01/01/2018  12/31/2018  "
      ]
     },
     "execution_count": 2,
     "metadata": {},
     "output_type": "execute_result"
    }
   ],
   "source": [
    "# Read the CSV file into panda dataframe and save it to another table so we can keep a copy of the original dataset\n",
    "# In our example we use the dataframe called table1 for all pre-processing, while the dataframe table\n",
    "# maintains a copy of the original data\n",
    "\n",
    "import pandas as pd\n",
    "table = pd.read_csv('Medicare_Hospital_Spending_by_Claim.csv')\n",
    "table1 = table.copy()\n",
    "table1.head()"
   ]
  },
  {
   "cell_type": "code",
   "execution_count": 3,
   "id": "4791c05e-bcda-41db-bc6a-c219c1bf3886",
   "metadata": {},
   "outputs": [],
   "source": [
    "# Encode column \"State\"\n",
    "\n",
    "replace_map = {'State': {'AK': 1, 'AL': 2, 'AR': 3, 'AZ': 4, 'CA': 5, 'CO': 6, 'CT': 7, \n",
    "                         'DC': 8, 'DE': 9, 'FL': 10, 'GA': 11, 'HI': 12, \n",
    "                         'IA': 13, 'ID': 14, 'IL': 15, 'IN': 16, 'KS': 17, \n",
    "                         'KY': 18, 'LA': 19, 'MA': 20, 'ME': 21, 'MI': 22, \n",
    "                         'MN': 23, 'MO': 24, 'MS': 25, 'MT': 26, 'NC': 27, \n",
    "                         'ND': 28, 'NE': 29, 'NH': 30, 'NJ': 31, 'NM': 32, \n",
    "                         'NV': 33, 'NY': 34, 'OH': 35, 'OK': 36, 'OR': 37, \n",
    "                         'PA': 38, 'RI': 39, 'SC': 40, 'SD': 41, 'TN': 42, \n",
    "                         'TX': 43, 'UT': 44, 'VA': 45, 'VT': 46, 'WA': 47, \n",
    "                         'WI': 48, 'WV': 49, 'WY': 50}}\n",
    "table1.replace(replace_map,inplace=True)"
   ]
  },
  {
   "cell_type": "code",
   "execution_count": 4,
   "id": "95dafd49-b264-4d13-b9df-028dd236626a",
   "metadata": {},
   "outputs": [],
   "source": [
    "# Encode column \"Period\"\n",
    "\n",
    "replace_map = {'Period': {'1 to 3 days Prior to Index Hospital Admission': 1, \n",
    "                          'During Index Hospital Admission': 2, \n",
    "                          '1 through 30 days After Discharge from Index Hospital Admission': 3, \n",
    "                          'Complete Episode': 4}}\n",
    "table1.replace(replace_map,inplace=True)"
   ]
  },
  {
   "cell_type": "code",
   "execution_count": 5,
   "id": "4570c4a9-62ff-411a-a786-7085d0422269",
   "metadata": {},
   "outputs": [],
   "source": [
    "# Encode column \"Claim Type\"\n",
    "\n",
    "replace_map = {'Claim Type': {'Home Health Agency': 1, \n",
    "                              'Hospice': 2, \n",
    "                              'Inpatient': 3, \n",
    "                              'Outpatient': 4, \n",
    "                              'Skilled Nursing Facility': 5, \n",
    "                              'Durable Medical Equipment': 6, \n",
    "                              'Carrier': 7, \n",
    "                              'Total': 8}}\n",
    "table1.replace(replace_map,inplace=True)"
   ]
  },
  {
   "cell_type": "code",
   "execution_count": 6,
   "id": "7ca44620-fc61-45e0-9af6-34bda25e1758",
   "metadata": {},
   "outputs": [],
   "source": [
    "# Convert the column \"Percent of Spending Hospital\tPercent of Spending\" to float, remove the percent sign and \n",
    "# divide by 100 to normalize for percentage\n",
    "\n",
    "table1['Percent of Spending Hospital'] = table1['Percent of Spending Hospital'].str.rstrip('%').astype('float')\n",
    "table1['Percent of Spending Hospital'] = table1['Percent of Spending Hospital']/100"
   ]
  },
  {
   "cell_type": "code",
   "execution_count": 7,
   "id": "48ff11e7-8c45-4996-9531-1dd1665191f7",
   "metadata": {},
   "outputs": [],
   "source": [
    "# Convert the column \"Percent of Spending State\" to float, remove the percent sign and \n",
    "# divide by 100 to normalize for percentage\n",
    "\n",
    "table1['Percent of Spending State'] = table1['Percent of Spending State'].str.rstrip('%').astype('float')\n",
    "table1['Percent of Spending State'] = table1['Percent of Spending State']/100"
   ]
  },
  {
   "cell_type": "code",
   "execution_count": 8,
   "id": "df3c8a5e-7b56-46ac-a7c2-eae09b28cec0",
   "metadata": {},
   "outputs": [],
   "source": [
    "# Convert the column \"Percent of Spending Nation\" to float, remove the percent sign and \n",
    "# divide by 100 to normalize for percentage\n",
    "\n",
    "table1['Percent of Spending Nation'] = table1['Percent of Spending Nation'].str.rstrip('%').astype('float')\n",
    "table1['Percent of Spending Nation'] = table1['Percent of Spending Nation']/100"
   ]
  },
  {
   "cell_type": "code",
   "execution_count": 9,
   "id": "03b57e5f-46f8-4a2f-b289-c69bc6c702ea",
   "metadata": {},
   "outputs": [],
   "source": [
    "# Drop Column \"Facility Name\", Facility Id related to the facility, hence facility name is not\n",
    "# relevant for the model\n",
    "\n",
    "table1.drop(['Facility Name'], axis=1, inplace = True)"
   ]
  },
  {
   "cell_type": "code",
   "execution_count": 10,
   "id": "fbd09af9-3828-49ae-bb3d-9b6e228227cb",
   "metadata": {},
   "outputs": [],
   "source": [
    "# Move the \"Avg Spending Per Episode Hospital\" column to the beginning, since the\n",
    "# algorithm requires the prediction column at the beginning\n",
    "\n",
    "col_name='Avg Spending Per Episode Hospital'\n",
    "first_col = table1.pop(col_name)\n",
    "table1.insert(0, col_name, first_col)"
   ]
  },
  {
   "cell_type": "code",
   "execution_count": 11,
   "id": "ee6135ef-84cc-4691-abe3-88ac3493d290",
   "metadata": {},
   "outputs": [],
   "source": [
    "# Convert integer values to float in the columns \"Avg Spending Per Episode Hospital\", \n",
    "# \"Avg Spending Per Episode State\" and \"Avg Spending Per Episode Nation\"\n",
    "# Columns with integer values are interpreted as categorical values. Changing to float avoids any mis-interpretetaion\n",
    "\n",
    "table1['Avg Spending Per Episode Hospital'] = table1['Avg Spending Per Episode Hospital'].astype('float')\n",
    "table1['Avg Spending Per Episode State'] = table1['Avg Spending Per Episode State'].astype('float')\n",
    "table1['Avg Spending Per Episode Nation'] = table1['Avg Spending Per Episode Nation'].astype('float')"
   ]
  },
  {
   "cell_type": "code",
   "execution_count": 12,
   "id": "c6b00bf4-bee9-45e8-838f-55d3b7698c0e",
   "metadata": {},
   "outputs": [],
   "source": [
    "# Rename long column names for costs and percentage costs on the hospital, state and nation,\n",
    "# so they are easily referenced in the rest of this discussion\n",
    "\n",
    "table1.rename(columns={'Avg Spending Per Episode Hospital':'Avg_Hosp',\n",
    "                       'Avg Spending Per Episode State':'Avg_State',\n",
    "                       'Avg Spending Per Episode Nation':'Avg_Nation',\n",
    "                       'Percent of Spending Hospital':'Percent_Hosp',\n",
    "                       'Percent of Spending State':'Percent_State',\n",
    "                       'Percent of Spending Nation':'Percent_Nation'}, \n",
    "                       inplace=True)"
   ]
  },
  {
   "cell_type": "code",
   "execution_count": 13,
   "id": "c715b518-8d0b-429b-950d-ac7234ec42f2",
   "metadata": {},
   "outputs": [],
   "source": [
    "# Convert Start Date and End Date to datetime objects, then convert them to integers. First the data is converted\n",
    "# to Pandas datetime object. Then the year, month and days are extracted from the datetime object and \n",
    "# multipled with some weights to convert into final integer values.\n",
    "\n",
    "table1['Start Date'] = pd.to_datetime(table1['Start Date'])\n",
    "table1['End Date'] = pd.to_datetime(table1['End Date'])\n",
    "table1['Start Date'] = 1000*table1['Start Date'].dt.year + 100*table1['Start Date'].dt.month + table1['Start Date'].dt.day\n",
    "table1['End Date'] = 1000*table1['End Date'].dt.year + 100*table1['End Date'].dt.month + table1['End Date'].dt.day"
   ]
  },
  {
   "cell_type": "code",
   "execution_count": 14,
   "id": "dd8b5151-db0c-4e31-8689-43e53bcc79a2",
   "metadata": {},
   "outputs": [
    {
     "data": {
      "text/html": [
       "<div>\n",
       "<style scoped>\n",
       "    .dataframe tbody tr th:only-of-type {\n",
       "        vertical-align: middle;\n",
       "    }\n",
       "\n",
       "    .dataframe tbody tr th {\n",
       "        vertical-align: top;\n",
       "    }\n",
       "\n",
       "    .dataframe thead th {\n",
       "        text-align: right;\n",
       "    }\n",
       "</style>\n",
       "<table border=\"1\" class=\"dataframe\">\n",
       "  <thead>\n",
       "    <tr style=\"text-align: right;\">\n",
       "      <th></th>\n",
       "      <th>Avg_Hosp</th>\n",
       "      <th>Facility ID</th>\n",
       "      <th>State</th>\n",
       "      <th>Period</th>\n",
       "      <th>Claim Type</th>\n",
       "      <th>Avg_State</th>\n",
       "      <th>Avg_Nation</th>\n",
       "      <th>Percent_Hosp</th>\n",
       "      <th>Percent_State</th>\n",
       "      <th>Percent_Nation</th>\n",
       "      <th>Start Date</th>\n",
       "      <th>End Date</th>\n",
       "    </tr>\n",
       "  </thead>\n",
       "  <tbody>\n",
       "    <tr>\n",
       "      <th>0</th>\n",
       "      <td>0.0</td>\n",
       "      <td>670102</td>\n",
       "      <td>43</td>\n",
       "      <td>1</td>\n",
       "      <td>2</td>\n",
       "      <td>1.0</td>\n",
       "      <td>1.0</td>\n",
       "      <td>0.0000</td>\n",
       "      <td>0.0000</td>\n",
       "      <td>0.0000</td>\n",
       "      <td>2018101</td>\n",
       "      <td>2019231</td>\n",
       "    </tr>\n",
       "    <tr>\n",
       "      <th>1</th>\n",
       "      <td>0.0</td>\n",
       "      <td>670102</td>\n",
       "      <td>43</td>\n",
       "      <td>1</td>\n",
       "      <td>3</td>\n",
       "      <td>7.0</td>\n",
       "      <td>7.0</td>\n",
       "      <td>0.0000</td>\n",
       "      <td>0.0003</td>\n",
       "      <td>0.0003</td>\n",
       "      <td>2018101</td>\n",
       "      <td>2019231</td>\n",
       "    </tr>\n",
       "    <tr>\n",
       "      <th>2</th>\n",
       "      <td>48.0</td>\n",
       "      <td>670102</td>\n",
       "      <td>43</td>\n",
       "      <td>1</td>\n",
       "      <td>4</td>\n",
       "      <td>140.0</td>\n",
       "      <td>152.0</td>\n",
       "      <td>0.0017</td>\n",
       "      <td>0.0060</td>\n",
       "      <td>0.0070</td>\n",
       "      <td>2018101</td>\n",
       "      <td>2019231</td>\n",
       "    </tr>\n",
       "    <tr>\n",
       "      <th>3</th>\n",
       "      <td>0.0</td>\n",
       "      <td>670102</td>\n",
       "      <td>43</td>\n",
       "      <td>1</td>\n",
       "      <td>5</td>\n",
       "      <td>3.0</td>\n",
       "      <td>2.0</td>\n",
       "      <td>0.0000</td>\n",
       "      <td>0.0001</td>\n",
       "      <td>0.0001</td>\n",
       "      <td>2018101</td>\n",
       "      <td>2019231</td>\n",
       "    </tr>\n",
       "    <tr>\n",
       "      <th>4</th>\n",
       "      <td>0.0</td>\n",
       "      <td>670102</td>\n",
       "      <td>43</td>\n",
       "      <td>1</td>\n",
       "      <td>6</td>\n",
       "      <td>8.0</td>\n",
       "      <td>8.0</td>\n",
       "      <td>0.0000</td>\n",
       "      <td>0.0003</td>\n",
       "      <td>0.0004</td>\n",
       "      <td>2018101</td>\n",
       "      <td>2019231</td>\n",
       "    </tr>\n",
       "  </tbody>\n",
       "</table>\n",
       "</div>"
      ],
      "text/plain": [
       "   Avg_Hosp  Facility ID  State  Period  Claim Type  Avg_State  Avg_Nation  \\\n",
       "0       0.0       670102     43       1           2        1.0         1.0   \n",
       "1       0.0       670102     43       1           3        7.0         7.0   \n",
       "2      48.0       670102     43       1           4      140.0       152.0   \n",
       "3       0.0       670102     43       1           5        3.0         2.0   \n",
       "4       0.0       670102     43       1           6        8.0         8.0   \n",
       "\n",
       "   Percent_Hosp  Percent_State  Percent_Nation  Start Date  End Date  \n",
       "0        0.0000         0.0000          0.0000     2018101   2019231  \n",
       "1        0.0000         0.0003          0.0003     2018101   2019231  \n",
       "2        0.0017         0.0060          0.0070     2018101   2019231  \n",
       "3        0.0000         0.0001          0.0001     2018101   2019231  \n",
       "4        0.0000         0.0003          0.0004     2018101   2019231  "
      ]
     },
     "execution_count": 14,
     "metadata": {},
     "output_type": "execute_result"
    }
   ],
   "source": [
    "# See the first 5 rows in the dataframe to see how the changed data looks\n",
    "\n",
    "table1.head()"
   ]
  },
  {
   "cell_type": "code",
   "execution_count": 15,
   "id": "f4bba471-3e04-436e-b933-8c1faa5b75bd",
   "metadata": {},
   "outputs": [],
   "source": [
    "# Drop Columns \"Start Date\" and \"End Date\". The dataset is only for 2018, hence all start and end dates\n",
    "# are same in each row and does not impact the model\n",
    "\n",
    "table1.drop(['Start Date'], axis=1, inplace = True)\n",
    "table1.drop(['End Date'], axis=1, inplace = True)"
   ]
  },
  {
   "cell_type": "code",
   "execution_count": 16,
   "id": "d8e83566-7aca-43fd-9192-67eb6e2e22bc",
   "metadata": {},
   "outputs": [
    {
     "data": {
      "text/plain": [
       "Avg_Hosp          0\n",
       "Facility ID       0\n",
       "State             0\n",
       "Period            0\n",
       "Claim Type        0\n",
       "Avg_State         0\n",
       "Avg_Nation        0\n",
       "Percent_Hosp      0\n",
       "Percent_State     0\n",
       "Percent_Nation    0\n",
       "dtype: int64"
      ]
     },
     "execution_count": 16,
     "metadata": {},
     "output_type": "execute_result"
    }
   ],
   "source": [
    "# Make sure the table do not have missing values. The following code line shows there are no missing values\n",
    "# in the table\n",
    "\n",
    "table1.isna().sum()"
   ]
  },
  {
   "cell_type": "markdown",
   "id": "52027ced-fa95-4574-9ed4-2553d4a03fcf",
   "metadata": {},
   "source": [
    "# Exploratory Data Analysis (EDA):\n",
    "In this section, we perform **Exploratory Data Analysis** of the data set and use various techniques for feature selection\n",
    "\n",
    "First, we see the scatter_matrix plot of the feature variables in the data frame as they relate to the prediction variable `Avg_Hosp` cost. For this we use the scatter_matrix function from pandas.plotting library.\n",
    "\n",
    "The entire dataset has 67826 data rows. For analysis, we take a random sample of 400 data rows for the scatter_matrix. Before selecting the 400 random data rows, we use the scale function from sklearn.preprocessing library to appropriately scale the values of the data columns. This helps the scatter_matrix plot label decorations fit properly. This plots helps in determining if we should keep all the feature columns while training the model.\n",
    "\n",
    "Next we use the SelectKBest class and chi2 statistical test available from sklearn.feature_selection library to find the scores of feature columns as they relate to the prediction column. This is another mechanism to determine which feature columns are relevant to keep in the model\n",
    "\n",
    "Following that, we create and visualize the correlation matrix. This is another mechanism towards feature selection prior to training the model."
   ]
  },
  {
   "cell_type": "code",
   "execution_count": 17,
   "id": "122d991d-622d-4e24-a218-8b681268a46d",
   "metadata": {},
   "outputs": [],
   "source": [
    "# After selecting the random sample of 400 data rows for the scatter_matrix analysis, this step\n",
    "# uses the scale function from sklearn.preprocessing library to scale the values. A new pandas data frame is created\n",
    "# that holds the sampled 400 data rows. We want to keep the original data set intact so we can use the original\n",
    "# data set for the subsequent training of the model\n",
    "\n",
    "from sklearn.preprocessing import scale\n",
    "\n",
    "table1_sample = table1.sample(n=400,random_state=2)\n",
    "standardised_table1_sample = scale(table1_sample)\n",
    "\n",
    "standardised_table1_sample = pd.DataFrame(standardised_table1_sample, index=table1_sample.index, columns=table1_sample.columns)"
   ]
  },
  {
   "cell_type": "code",
   "execution_count": 18,
   "id": "6cba1484-cbcc-4737-9488-e4b722febfd2",
   "metadata": {},
   "outputs": [],
   "source": [
    "# The scatter_matrix is plotted using a tight layout for ease of visualization within the notebook. Hence,\n",
    "# in the scaled randomized sample of 400 data rows, the column names are renamed to shorter column names.\n",
    "\n",
    "standardised_table1_sample.rename(columns = {'Avg_Hosp':'A_Ho'}, inplace = True)\n",
    "standardised_table1_sample.rename(columns = {'Facility ID':'F_Id'}, inplace = True)\n",
    "standardised_table1_sample.rename(columns = {'State':'ST'}, inplace = True)\n",
    "standardised_table1_sample.rename(columns = {'Period':'Per'}, inplace = True)\n",
    "standardised_table1_sample.rename(columns = {'Claim Type':'Clm'}, inplace = True)\n",
    "standardised_table1_sample.rename(columns = {'Avg_State':'A_ST'}, inplace = True)\n",
    "standardised_table1_sample.rename(columns = {'Avg_Nation':'A_Na'}, inplace = True)\n",
    "standardised_table1_sample.rename(columns = {'Percent_Hosp':'P_Ho'}, inplace = True)\n",
    "standardised_table1_sample.rename(columns = {'Percent_State':'P_ST'}, inplace = True)\n",
    "standardised_table1_sample.rename(columns = {'Percent_Nation':'P_Na'}, inplace = True)"
   ]
  },
  {
   "cell_type": "code",
   "execution_count": 19,
   "id": "fdbb09fa-7214-436d-beb5-f6c8e33f4984",
   "metadata": {},
   "outputs": [
    {
     "data": {
      "text/plain": [
       "<Figure size 792x576 with 0 Axes>"
      ]
     },
     "metadata": {},
     "output_type": "display_data"
    },
    {
     "data": {
      "image/png": "[encoded data removed]",
      "text/plain": [
       "<Figure size 432x288 with 25 Axes>"
      ]
     },
     "metadata": {
      "needs_background": "light"
     },
     "output_type": "display_data"
    },
    {
     "data": {
      "image/png": "[encoded data removed]",
      "text/plain": [
       "<Figure size 432x288 with 36 Axes>"
      ]
     },
     "metadata": {
      "needs_background": "light"
     },
     "output_type": "display_data"
    }
   ],
   "source": [
    "# In this step, the scatter matrix is plotted between the prediction column \"Avg_Hosp\" whose shortened name is \"A_Ho\"\n",
    "# and each of the other remaining feature columns. For clarity of visualization, we create two scatter_matrix\n",
    "# plots. The first one showing Avg_Hosp with the columns \"Facility Id\", \"State\", \"Period\" and \"Claim Type\".\n",
    "# The second plot shows Avg_Hosp relation with the columns \"Avg_State\", \"Avg_Nation\", \"Percent_Hosp\", \n",
    "# \"Percent_State\" and \"Percent_Nation\"\n",
    "\n",
    "%matplotlib inline\n",
    "\n",
    "import matplotlib.pyplot as plt\n",
    "from pandas.plotting import scatter_matrix\n",
    "\n",
    "\n",
    "plt.figure(figsize=(11,8))\n",
    "pd.plotting.scatter_matrix(standardised_table1_sample.loc[:, 'A_Ho':'Clm'], diagonal='kde')\n",
    "plt.tight_layout()\n",
    "plt.show()\n",
    "\n",
    "pd.plotting.scatter_matrix(standardised_table1_sample.loc[:, ['A_Ho','A_ST','A_Na', \\\n",
    "                                                              'P_Ho','P_ST','P_Na']], diagonal='kde')\n",
    "plt.tight_layout()\n",
    "plt.show()"
   ]
  },
  {
   "cell_type": "code",
   "execution_count": 20,
   "id": "19ac69e4-946e-40b3-8524-37c3485303d4",
   "metadata": {},
   "outputs": [
    {
     "name": "stdout",
     "output_type": "stream",
     "text": [
      "         Features         Score\n",
      "0     Facility ID  9.760495e+08\n",
      "4       Avg_State  7.996024e+08\n",
      "5      Avg_Nation  7.950498e+08\n",
      "1           State  8.320571e+04\n",
      "6    Percent_Hosp  3.732397e+04\n",
      "7   Percent_State  3.685061e+04\n",
      "8  Percent_Nation  3.673161e+04\n",
      "3      Claim Type  2.672140e+04\n",
      "2          Period  1.624859e+04\n"
     ]
    }
   ],
   "source": [
    "# In this step, we calculate the statistical scores of the feature columns as it relates to the prediction column\n",
    "# Avg_Hosp using the SelectKBest library function based on the chi2 statistical test. The scores are displayed in a \n",
    "# tabluar format for visualization. The X data frame has all the feature columns. The y data frame has the\n",
    "# prediction column.\n",
    "\n",
    "import numpy as np\n",
    "import pandas as pd\n",
    "from sklearn.feature_selection import SelectKBest \n",
    "from sklearn.feature_selection import chi2\n",
    "\n",
    "X = table1.iloc[:,1:10]\n",
    "y = table1.iloc[:,0:1]\n",
    "\n",
    "# We are selecting all the feature columns to see the scores for each feature column\n",
    "selected = SelectKBest(score_func=chi2, k=9)\n",
    "fit = selected.fit(X,y)\n",
    "datascores = pd.DataFrame(fit.scores_)\n",
    "datacolumns = pd.DataFrame(X.columns)\n",
    "\n",
    "# concat two dataframes for better visualization\n",
    "featureScores = pd.concat([datacolumns,datascores],axis=1) \n",
    "featureScores.columns = ['Features','Score'] # naming the dataframe columns\n",
    "print(featureScores.nlargest(9,'Score')) # print 9 best features"
   ]
  },
  {
   "cell_type": "code",
   "execution_count": 21,
   "id": "91a5dc4c-777d-4ee8-aaaf-e8c0a63c6882",
   "metadata": {},
   "outputs": [
    {
     "name": "stdout",
     "output_type": "stream",
     "text": [
      "                Avg_Hosp   Facility ID         State        Period  \\\n",
      "Avg_Hosp        1.000000 -8.863661e-06 -2.051140e-04  4.912669e-01   \n",
      "Facility ID    -0.000009  1.000000e+00  9.821420e-01 -7.250570e-16   \n",
      "State          -0.000205  9.821420e-01  1.000000e+00 -7.941509e-16   \n",
      "Period          0.491267 -7.250570e-16 -7.941509e-16  1.000000e+00   \n",
      "Claim Type      0.329614  1.675355e-14  1.650797e-14  1.815683e-01   \n",
      "Avg_State       0.978819  8.851031e-04  6.733522e-04  4.994380e-01   \n",
      "Avg_Nation      0.976734 -1.315365e-15 -1.331209e-15  5.009157e-01   \n",
      "Percent_Hosp    0.982630  1.653416e-07  1.680870e-07  5.003226e-01   \n",
      "Percent_State   0.977278  1.628740e-06  1.705365e-06  4.995657e-01   \n",
      "Percent_Nation  0.976734  1.502742e-15  1.561542e-15  5.009206e-01   \n",
      "\n",
      "                  Claim Type  Avg_State    Avg_Nation  Percent_Hosp  \\\n",
      "Avg_Hosp        3.296143e-01   0.978819  9.767342e-01  9.826304e-01   \n",
      "Facility ID     1.675355e-14   0.000885 -1.315365e-15  1.653416e-07   \n",
      "State           1.650797e-14   0.000673 -1.331209e-15  1.680870e-07   \n",
      "Period          1.815683e-01   0.499438  5.009157e-01  5.003226e-01   \n",
      "Claim Type      1.000000e+00   0.337399  3.388598e-01  3.351493e-01   \n",
      "Avg_State       3.373986e-01   1.000000  9.984595e-01  9.939270e-01   \n",
      "Avg_Nation      3.388598e-01   0.998460  1.000000e+00  9.939876e-01   \n",
      "Percent_Hosp    3.351493e-01   0.993927  9.939876e-01  1.000000e+00   \n",
      "Percent_State   3.375192e-01   0.999169  9.991468e-01  9.946930e-01   \n",
      "Percent_Nation  3.388660e-01   0.998460  1.000000e+00  9.939871e-01   \n",
      "\n",
      "                Percent_State  Percent_Nation  \n",
      "Avg_Hosp             0.977278    9.767338e-01  \n",
      "Facility ID          0.000002    1.502742e-15  \n",
      "State                0.000002    1.561542e-15  \n",
      "Period               0.499566    5.009206e-01  \n",
      "Claim Type           0.337519    3.388660e-01  \n",
      "Avg_State            0.999169    9.984596e-01  \n",
      "Avg_Nation           0.999147    1.000000e+00  \n",
      "Percent_Hosp         0.994693    9.939871e-01  \n",
      "Percent_State        1.000000    9.991469e-01  \n",
      "Percent_Nation       0.999147    1.000000e+00  \n"
     ]
    }
   ],
   "source": [
    "# Calculate Correlation Matrix to see how the data is related\n",
    "\n",
    "corrMatrix = table1.corr()\n",
    "print(corrMatrix)"
   ]
  },
  {
   "cell_type": "code",
   "execution_count": 22,
   "id": "2ef6b23e-d4f3-4e60-b9a5-31ae73c545d5",
   "metadata": {},
   "outputs": [
    {
     "data": {
      "image/png": "[encoded data removed]",
      "text/plain": [
       "<Figure size 1080x720 with 2 Axes>"
      ]
     },
     "metadata": {
      "needs_background": "light"
     },
     "output_type": "display_data"
    }
   ],
   "source": [
    "# Visualize Correlation matrix with Searborn and Matplotlib\n",
    "\n",
    "import seaborn as sn\n",
    "import matplotlib.pyplot as plt\n",
    "\n",
    "plt.subplots(figsize=(15,10))\n",
    "plt.tick_params(labelsize=14);\n",
    "sn.heatmap(corrMatrix, annot=True, annot_kws={'size':12}, fmt='.2f', robust=True)\n",
    "plt.xlabel('Parameters', fontsize=25)\n",
    "plt.ylabel('Parameters', fontsize=25)\n",
    "plt.show()"
   ]
  },
  {
   "cell_type": "code",
   "execution_count": 23,
   "id": "a71b29d9-8e01-4a82-8e42-fd1f243b25af",
   "metadata": {},
   "outputs": [
    {
     "data": {
      "text/plain": [
       "Avg_Hosp          1.000000\n",
       "Percent_Hosp      0.982630\n",
       "Avg_State         0.978819\n",
       "Percent_State     0.977278\n",
       "Avg_Nation        0.976734\n",
       "Percent_Nation    0.976734\n",
       "Period            0.491267\n",
       "Claim Type        0.329614\n",
       "Facility ID      -0.000009\n",
       "State            -0.000205\n",
       "Name: Avg_Hosp, dtype: float64"
      ]
     },
     "execution_count": 23,
     "metadata": {},
     "output_type": "execute_result"
    }
   ],
   "source": [
    "# Our target prediction is the column Avg_Hosp, we want to see \n",
    "# how this value is correlated with the other feature columns\n",
    "# From the below matrix, we see that the prediction column Avg_Hosp has the highest correlation\n",
    "# with the Avg_State feature column\n",
    "\n",
    "corrMatrix['Avg_Hosp'].sort_values(ascending=False)"
   ]
  },
  {
   "cell_type": "code",
   "execution_count": 24,
   "id": "e23a5ed3-68a8-4e94-86b6-6e75e64ac7b0",
   "metadata": {},
   "outputs": [
    {
     "data": {
      "text/html": [
       "<div>\n",
       "<style scoped>\n",
       "    .dataframe tbody tr th:only-of-type {\n",
       "        vertical-align: middle;\n",
       "    }\n",
       "\n",
       "    .dataframe tbody tr th {\n",
       "        vertical-align: top;\n",
       "    }\n",
       "\n",
       "    .dataframe thead th {\n",
       "        text-align: right;\n",
       "    }\n",
       "</style>\n",
       "<table border=\"1\" class=\"dataframe\">\n",
       "  <thead>\n",
       "    <tr style=\"text-align: right;\">\n",
       "      <th></th>\n",
       "      <th>Avg_Hosp</th>\n",
       "      <th>Facility ID</th>\n",
       "      <th>State</th>\n",
       "      <th>Period</th>\n",
       "      <th>Claim Type</th>\n",
       "      <th>Avg_State</th>\n",
       "      <th>Avg_Nation</th>\n",
       "      <th>Percent_Hosp</th>\n",
       "      <th>Percent_State</th>\n",
       "      <th>Percent_Nation</th>\n",
       "    </tr>\n",
       "  </thead>\n",
       "  <tbody>\n",
       "    <tr>\n",
       "      <th>0</th>\n",
       "      <td>0.0</td>\n",
       "      <td>670102</td>\n",
       "      <td>43</td>\n",
       "      <td>1</td>\n",
       "      <td>2</td>\n",
       "      <td>1.0</td>\n",
       "      <td>1.0</td>\n",
       "      <td>0.0000</td>\n",
       "      <td>0.0000</td>\n",
       "      <td>0.0000</td>\n",
       "    </tr>\n",
       "    <tr>\n",
       "      <th>1</th>\n",
       "      <td>0.0</td>\n",
       "      <td>670102</td>\n",
       "      <td>43</td>\n",
       "      <td>1</td>\n",
       "      <td>3</td>\n",
       "      <td>7.0</td>\n",
       "      <td>7.0</td>\n",
       "      <td>0.0000</td>\n",
       "      <td>0.0003</td>\n",
       "      <td>0.0003</td>\n",
       "    </tr>\n",
       "    <tr>\n",
       "      <th>2</th>\n",
       "      <td>48.0</td>\n",
       "      <td>670102</td>\n",
       "      <td>43</td>\n",
       "      <td>1</td>\n",
       "      <td>4</td>\n",
       "      <td>140.0</td>\n",
       "      <td>152.0</td>\n",
       "      <td>0.0017</td>\n",
       "      <td>0.0060</td>\n",
       "      <td>0.0070</td>\n",
       "    </tr>\n",
       "    <tr>\n",
       "      <th>3</th>\n",
       "      <td>0.0</td>\n",
       "      <td>670102</td>\n",
       "      <td>43</td>\n",
       "      <td>1</td>\n",
       "      <td>5</td>\n",
       "      <td>3.0</td>\n",
       "      <td>2.0</td>\n",
       "      <td>0.0000</td>\n",
       "      <td>0.0001</td>\n",
       "      <td>0.0001</td>\n",
       "    </tr>\n",
       "    <tr>\n",
       "      <th>4</th>\n",
       "      <td>0.0</td>\n",
       "      <td>670102</td>\n",
       "      <td>43</td>\n",
       "      <td>1</td>\n",
       "      <td>6</td>\n",
       "      <td>8.0</td>\n",
       "      <td>8.0</td>\n",
       "      <td>0.0000</td>\n",
       "      <td>0.0003</td>\n",
       "      <td>0.0004</td>\n",
       "    </tr>\n",
       "  </tbody>\n",
       "</table>\n",
       "</div>"
      ],
      "text/plain": [
       "   Avg_Hosp  Facility ID  State  Period  Claim Type  Avg_State  Avg_Nation  \\\n",
       "0       0.0       670102     43       1           2        1.0         1.0   \n",
       "1       0.0       670102     43       1           3        7.0         7.0   \n",
       "2      48.0       670102     43       1           4      140.0       152.0   \n",
       "3       0.0       670102     43       1           5        3.0         2.0   \n",
       "4       0.0       670102     43       1           6        8.0         8.0   \n",
       "\n",
       "   Percent_Hosp  Percent_State  Percent_Nation  \n",
       "0        0.0000         0.0000          0.0000  \n",
       "1        0.0000         0.0003          0.0003  \n",
       "2        0.0017         0.0060          0.0070  \n",
       "3        0.0000         0.0001          0.0001  \n",
       "4        0.0000         0.0003          0.0004  "
      ]
     },
     "execution_count": 24,
     "metadata": {},
     "output_type": "execute_result"
    }
   ],
   "source": [
    "table1.head()"
   ]
  },
  {
   "cell_type": "code",
   "execution_count": 25,
   "id": "d4251392-590a-4c75-93ed-23cb420339ea",
   "metadata": {},
   "outputs": [],
   "source": [
    "table1.drop([\"Facility ID\"], axis=1, inplace=True)"
   ]
  },
  {
   "cell_type": "code",
   "execution_count": 26,
   "id": "a4bb94e1-3940-4b8b-b47a-20e1320c946d",
   "metadata": {},
   "outputs": [
    {
     "data": {
      "text/html": [
       "<div>\n",
       "<style scoped>\n",
       "    .dataframe tbody tr th:only-of-type {\n",
       "        vertical-align: middle;\n",
       "    }\n",
       "\n",
       "    .dataframe tbody tr th {\n",
       "        vertical-align: top;\n",
       "    }\n",
       "\n",
       "    .dataframe thead th {\n",
       "        text-align: right;\n",
       "    }\n",
       "</style>\n",
       "<table border=\"1\" class=\"dataframe\">\n",
       "  <thead>\n",
       "    <tr style=\"text-align: right;\">\n",
       "      <th></th>\n",
       "      <th>Avg_Hosp</th>\n",
       "      <th>State</th>\n",
       "      <th>Period</th>\n",
       "      <th>Claim Type</th>\n",
       "      <th>Avg_State</th>\n",
       "      <th>Avg_Nation</th>\n",
       "      <th>Percent_Hosp</th>\n",
       "      <th>Percent_State</th>\n",
       "      <th>Percent_Nation</th>\n",
       "    </tr>\n",
       "  </thead>\n",
       "  <tbody>\n",
       "    <tr>\n",
       "      <th>0</th>\n",
       "      <td>0.0</td>\n",
       "      <td>43</td>\n",
       "      <td>1</td>\n",
       "      <td>2</td>\n",
       "      <td>1.0</td>\n",
       "      <td>1.0</td>\n",
       "      <td>0.0000</td>\n",
       "      <td>0.0000</td>\n",
       "      <td>0.0000</td>\n",
       "    </tr>\n",
       "    <tr>\n",
       "      <th>1</th>\n",
       "      <td>0.0</td>\n",
       "      <td>43</td>\n",
       "      <td>1</td>\n",
       "      <td>3</td>\n",
       "      <td>7.0</td>\n",
       "      <td>7.0</td>\n",
       "      <td>0.0000</td>\n",
       "      <td>0.0003</td>\n",
       "      <td>0.0003</td>\n",
       "    </tr>\n",
       "    <tr>\n",
       "      <th>2</th>\n",
       "      <td>48.0</td>\n",
       "      <td>43</td>\n",
       "      <td>1</td>\n",
       "      <td>4</td>\n",
       "      <td>140.0</td>\n",
       "      <td>152.0</td>\n",
       "      <td>0.0017</td>\n",
       "      <td>0.0060</td>\n",
       "      <td>0.0070</td>\n",
       "    </tr>\n",
       "    <tr>\n",
       "      <th>3</th>\n",
       "      <td>0.0</td>\n",
       "      <td>43</td>\n",
       "      <td>1</td>\n",
       "      <td>5</td>\n",
       "      <td>3.0</td>\n",
       "      <td>2.0</td>\n",
       "      <td>0.0000</td>\n",
       "      <td>0.0001</td>\n",
       "      <td>0.0001</td>\n",
       "    </tr>\n",
       "    <tr>\n",
       "      <th>4</th>\n",
       "      <td>0.0</td>\n",
       "      <td>43</td>\n",
       "      <td>1</td>\n",
       "      <td>6</td>\n",
       "      <td>8.0</td>\n",
       "      <td>8.0</td>\n",
       "      <td>0.0000</td>\n",
       "      <td>0.0003</td>\n",
       "      <td>0.0004</td>\n",
       "    </tr>\n",
       "  </tbody>\n",
       "</table>\n",
       "</div>"
      ],
      "text/plain": [
       "   Avg_Hosp  State  Period  Claim Type  Avg_State  Avg_Nation  Percent_Hosp  \\\n",
       "0       0.0     43       1           2        1.0         1.0        0.0000   \n",
       "1       0.0     43       1           3        7.0         7.0        0.0000   \n",
       "2      48.0     43       1           4      140.0       152.0        0.0017   \n",
       "3       0.0     43       1           5        3.0         2.0        0.0000   \n",
       "4       0.0     43       1           6        8.0         8.0        0.0000   \n",
       "\n",
       "   Percent_State  Percent_Nation  \n",
       "0         0.0000          0.0000  \n",
       "1         0.0003          0.0003  \n",
       "2         0.0060          0.0070  \n",
       "3         0.0001          0.0001  \n",
       "4         0.0003          0.0004  "
      ]
     },
     "execution_count": 26,
     "metadata": {},
     "output_type": "execute_result"
    }
   ],
   "source": [
    "table1.head()"
   ]
  },
  {
   "cell_type": "code",
   "execution_count": 27,
   "id": "71a50668-2bd6-4600-9faf-5851f78248c8",
   "metadata": {
    "tags": []
   },
   "outputs": [],
   "source": [
    "bucket = \"chadderw-30day-bucket\"\n",
    "prefix = \"medicare\""
   ]
  },
  {
   "cell_type": "code",
   "execution_count": 28,
   "id": "1f90628c-f763-4aad-99b2-301dfd05eb50",
   "metadata": {},
   "outputs": [],
   "source": [
    "table1.to_csv(f\"s3://{bucket}/{prefix}/medicare.csv\", index=False)"
   ]
  },
  {
   "cell_type": "markdown",
   "id": "9947f277-55fc-4e2a-a0b4-63f660f50363",
   "metadata": {},
   "source": [
    "# Creating Train, Validation and Test Datasets:\n",
    "In the last step of the previous section, we see that the prediction column `Avg_Hosp` cost has second highest correlation with the `Avg_State` feature column. In this section we examine the spread of values for the `Avg_State`. Then we use a technique called stratification to categorize each data row based on the category of the `Avg_State` cost. We did not use the column `Percent_Hosp` (highest correlation) for stratification because the `Percent_Hosp` column is derived from the `Avg_Hosp` value and the line which contains the Total Cost per Episode for a specific hospital. There is an obvious expected high degree of correlation between `Avg_Hosp` and `Percent_Hosp`. Using `Percent_Hosp` to stratify values will not give us a good representative sample for train, validation and test datasets.\n",
    "\n",
    "From the defined categories of the `Avg_State` values, we use the StratifiedShuffleSplit function from the Scikit-Learn library to split and randomly select data subsets for the training, validation and test data sets. We use this method two times. First we split the original data into train and test. Then we split the test set again into validation and test set. This stratification technique allows us to have good representation of data in each of the train, validation and test sets that are well spread across the `Avg_State` value categories. Then we move the prediction column `Avg_Hosp` to the first column in each of the train, validation and test data sets. The data sets are uploaded into S3 bucket location during the machine learning model creation process."
   ]
  },
  {
   "cell_type": "code",
   "execution_count": 29,
   "id": "5e040d22-ccdd-4d51-b920-3dfee6f14848",
   "metadata": {},
   "outputs": [
    {
     "name": "stderr",
     "output_type": "stream",
     "text": [
      "<ipython-input-29-cef6568338b4>:5: UserWarning: \n",
      "\n",
      "`distplot` is a deprecated function and will be removed in seaborn v0.14.0.\n",
      "\n",
      "Please adapt your code to use either `displot` (a figure-level function with\n",
      "similar flexibility) or `histplot` (an axes-level function for histograms).\n",
      "\n",
      "For a guide to updating your code to use the new functions, please see\n",
      "https://gist.github.com/mwaskom/de44147ed2974457ad6372750bbe5751\n",
      "\n",
      "  sn.distplot(table1.Avg_State)\n"
     ]
    },
    {
     "data": {
      "image/png": "[encoded data removed]",
      "text/plain": [
       "<Figure size 432x288 with 1 Axes>"
      ]
     },
     "metadata": {
      "needs_background": "light"
     },
     "output_type": "display_data"
    }
   ],
   "source": [
    "# We see the distribution of the data around the feature column \"Avg_State\" that has the highest\n",
    "# correlation to the target prediction \"Avg_Hosp\"\n",
    "# From the histogram below we see that most of the values are between 0 and 5000 for Avg_State\n",
    "\n",
    "sn.distplot(table1.Avg_State)\n",
    "plt.show()"
   ]
  },
  {
   "cell_type": "code",
   "execution_count": 30,
   "id": "69cc232d-042c-4d4a-9c98-c0cafbd312aa",
   "metadata": {},
   "outputs": [],
   "source": [
    "# Before we divide this dataset into train, validation and test, we need to stratify the values of Avg_State\n",
    "# to ensure we effectively select random sets of data into the train, validation and test data sets\n",
    "# which is good representative sample based on the Avg_State values\n",
    "# To do this, we introduce a new Feature column column called \"Avg_State_Category\", we make this column\n",
    "# equal to the value of the respective Avg_State value divided by 1000 and then using the ceil (ceiling) function\n",
    "\n",
    "table1['Avg_State_Category'] = np.ceil(table1['Avg_State']/1000)"
   ]
  },
  {
   "cell_type": "code",
   "execution_count": 31,
   "id": "fa91aa5a-ea14-41fb-b8a9-5011ada84b1f",
   "metadata": {},
   "outputs": [
    {
     "data": {
      "text/plain": [
       "0.0     14226\n",
       "1.0     35069\n",
       "2.0      6325\n",
       "3.0      3561\n",
       "4.0      2007\n",
       "5.0       472\n",
       "10.0     1060\n",
       "11.0     1749\n",
       "12.0      274\n",
       "20.0        9\n",
       "21.0      750\n",
       "22.0     1482\n",
       "23.0      544\n",
       "24.0      298\n",
       "Name: Avg_State_Category, dtype: int64"
      ]
     },
     "execution_count": 31,
     "metadata": {},
     "output_type": "execute_result"
    }
   ],
   "source": [
    "# Now see how these categories are distributed by aggregating across all the data rows\n",
    "\n",
    "table1.Avg_State_Category.value_counts().sort_index()"
   ]
  },
  {
   "cell_type": "code",
   "execution_count": 32,
   "id": "0584de8a-3dd4-4794-bfc8-3414c8fba652",
   "metadata": {},
   "outputs": [],
   "source": [
    "# From the above distribution, we see approximately 61k out of the total 67k values have category 0.0 to 5.0\n",
    "# Only about 6k values of the total (approx 9%) of the values have category greater than 5.0\n",
    "# Hence we update the category to 6.0 for all data rows that have category greater than 5.0\n",
    "\n",
    "table1['Avg_State_Category'].where(table1['Avg_State_Category'] < 5, 6.0, inplace=True)"
   ]
  },
  {
   "cell_type": "code",
   "execution_count": 33,
   "id": "9fbbf84b-aa00-4f30-8405-3a975e4df5b1",
   "metadata": {},
   "outputs": [],
   "source": [
    "table1.to_csv(f\"s3://{bucket}/{prefix}/medicare.csv\", index=False)"
   ]
  },
  {
   "cell_type": "code",
   "execution_count": 34,
   "id": "26c90230-60f7-4969-bd62-cd2d0253e6e0",
   "metadata": {
    "tags": []
   },
   "outputs": [
    {
     "name": "stdout",
     "output_type": "stream",
     "text": [
      "Initialized SageMaker session with default bucket sagemaker-us-west-2-782067938675\n"
     ]
    }
   ],
   "source": [
    "import boto3\n",
    "import sagemaker\n",
    "\n",
    "session = sagemaker.Session()\n",
    "role = sagemaker.get_execution_role()\n",
    "default_bucket = session.default_bucket()\n",
    "\n",
    "print('Initialized SageMaker session with default bucket {}'.format(default_bucket))"
   ]
  },
  {
   "cell_type": "code",
   "execution_count": 35,
   "id": "910570ad-3712-4110-886b-2b960c88b503",
   "metadata": {
    "tags": []
   },
   "outputs": [],
   "source": [
    "from sagemaker.debugger import CollectionConfig, DebuggerHookConfig\n",
    "\n",
    "debugger_prefix=\"medicare_debugger\"\n",
    "\n",
    "hook_config = DebuggerHookConfig(\n",
    "   s3_output_path=f's3://{default_bucket}/{debugger_prefix}',\n",
    "   collection_configs=[\n",
    "       CollectionConfig(name=\"all\")\n",
    "   ]\n",
    ")"
   ]
  },
  {
   "cell_type": "code",
   "execution_count": 36,
   "id": "8bbe3d60-f3ac-4ae8-8af7-2e1eb0486c84",
   "metadata": {
    "tags": []
   },
   "outputs": [
    {
     "name": "stderr",
     "output_type": "stream",
     "text": [
      "train_instance_count has been renamed in sagemaker>=2.\n",
      "See: https://sagemaker.readthedocs.io/en/stable/v2.html for details.\n",
      "train_instance_type has been renamed in sagemaker>=2.\n",
      "See: https://sagemaker.readthedocs.io/en/stable/v2.html for details.\n"
     ]
    },
    {
     "name": "stdout",
     "output_type": "stream",
     "text": [
      "Training artifacts will output to s3://sagemaker-us-west-2-782067938675/medicare\n"
     ]
    }
   ],
   "source": [
    "from sagemaker.pytorch import PyTorch\n",
    "\n",
    "s3_output_path = 's3://{}/{}'.format(default_bucket, prefix)\n",
    "print('Training artifacts will output to {}'.format(s3_output_path))\n",
    "\n",
    "estimator = PyTorch(source_dir='source',\n",
    "                    entry_point='train.py',\n",
    "                    framework_version='1.13.1',\n",
    "                    py_version=\"py39\",\n",
    "                    sagemaker_session=session,\n",
    "                    role=role,\n",
    "                    train_instance_count=1,\n",
    "                    train_instance_type='ml.m4.xlarge',\n",
    "                    output_path=s3_output_path,\n",
    "                    debugger_hook_config=hook_config,\n",
    "                    enable_default_profiling=True,\n",
    "                    keep_alive_period_in_seconds=600,\n",
    "                    hyperparameters={\n",
    "                        'input_dim': 8,\n",
    "                        'output_dim': 1,\n",
    "                        'batch_size':128,\n",
    "                        'epochs': 200,\n",
    "                        'lr':0.01\n",
    "                    })"
   ]
  },
  {
   "cell_type": "code",
   "execution_count": 37,
   "id": "46339a6f-1262-42bd-a23f-b68802849ff7",
   "metadata": {
    "tags": []
   },
   "outputs": [
    {
     "name": "stderr",
     "output_type": "stream",
     "text": [
      "INFO:sagemaker.image_uris:image_uri is not presented, retrieving image_uri based on instance_type, framework etc.\n",
      "INFO:sagemaker:Creating training-job with name: pytorch-training-2023-03-30-13-13-14-762\n"
     ]
    },
    {
     "name": "stdout",
     "output_type": "stream",
     "text": [
      "2023-03-30 13:13:15 Starting - Starting the training job...\n",
      "2023-03-30 13:13:39 Starting - Preparing the instances for training......\n",
      "2023-03-30 13:14:49 Downloading - Downloading input data......\n",
      "2023-03-30 13:15:29 Training - Downloading the training image......\n",
      "2023-03-30 13:16:30 Training - Training image download completed. Training in progress.\u001b[34mbash: cannot set terminal process group (-1): Inappropriate ioctl for device\u001b[0m\n",
      "\u001b[34mbash: no job control in this shell\u001b[0m\n",
      "\u001b[34m2023-03-30 13:16:45,688 sagemaker-training-toolkit INFO     Imported framework sagemaker_pytorch_container.training\u001b[0m\n",
      "\u001b[34m2023-03-30 13:16:45,690 sagemaker-training-toolkit INFO     No GPUs detected (normal if no gpus installed)\u001b[0m\n",
      "\u001b[34m2023-03-30 13:16:45,692 sagemaker-training-toolkit INFO     No Neurons detected (normal if no neurons installed)\u001b[0m\n",
      "\u001b[34m2023-03-30 13:16:45,705 sagemaker_pytorch_container.training INFO     Block until all host DNS lookups succeed.\u001b[0m\n",
      "\u001b[34m2023-03-30 13:16:45,707 sagemaker_pytorch_container.training INFO     Invoking user training script.\u001b[0m\n",
      "\u001b[34m2023-03-30 13:16:45,955 sagemaker-training-toolkit INFO     No GPUs detected (normal if no gpus installed)\u001b[0m\n",
      "\u001b[34m2023-03-30 13:16:45,957 sagemaker-training-toolkit INFO     No Neurons detected (normal if no neurons installed)\u001b[0m\n",
      "\u001b[34m2023-03-30 13:16:45,973 sagemaker-training-toolkit INFO     No GPUs detected (normal if no gpus installed)\u001b[0m\n",
      "\u001b[34m2023-03-30 13:16:45,975 sagemaker-training-toolkit INFO     No Neurons detected (normal if no neurons installed)\u001b[0m\n",
      "\u001b[34m2023-03-30 13:16:45,990 sagemaker-training-toolkit INFO     No GPUs detected (normal if no gpus installed)\u001b[0m\n",
      "\u001b[34m2023-03-30 13:16:45,993 sagemaker-training-toolkit INFO     No Neurons detected (normal if no neurons installed)\u001b[0m\n",
      "\u001b[34m2023-03-30 13:16:46,007 sagemaker-training-toolkit INFO     Invoking user script\u001b[0m\n",
      "\u001b[34mTraining Env:\u001b[0m\n",
      "\u001b[34m{\n",
      "    \"additional_framework_parameters\": {},\n",
      "    \"channel_input_dirs\": {\n",
      "        \"train\": \"/opt/ml/input/data/train\"\n",
      "    },\n",
      "    \"current_host\": \"algo-1\",\n",
      "    \"current_instance_group\": \"homogeneousCluster\",\n",
      "    \"current_instance_group_hosts\": [\n",
      "        \"algo-1\"\n",
      "    ],\n",
      "    \"current_instance_type\": \"ml.m4.xlarge\",\n",
      "    \"distribution_hosts\": [],\n",
      "    \"distribution_instance_groups\": [],\n",
      "    \"framework_module\": \"sagemaker_pytorch_container.training:main\",\n",
      "    \"hosts\": [\n",
      "        \"algo-1\"\n",
      "    ],\n",
      "    \"hyperparameters\": {\n",
      "        \"batch_size\": 128,\n",
      "        \"epochs\": 200,\n",
      "        \"input_dim\": 8,\n",
      "        \"lr\": 0.01,\n",
      "        \"output_dim\": 1\n",
      "    },\n",
      "    \"input_config_dir\": \"/opt/ml/input/config\",\n",
      "    \"input_data_config\": {\n",
      "        \"train\": {\n",
      "            \"TrainingInputMode\": \"File\",\n",
      "            \"S3DistributionType\": \"FullyReplicated\",\n",
      "            \"RecordWrapperType\": \"None\"\n",
      "        }\n",
      "    },\n",
      "    \"input_dir\": \"/opt/ml/input\",\n",
      "    \"instance_groups\": [\n",
      "        \"homogeneousCluster\"\n",
      "    ],\n",
      "    \"instance_groups_dict\": {\n",
      "        \"homogeneousCluster\": {\n",
      "            \"instance_group_name\": \"homogeneousCluster\",\n",
      "            \"instance_type\": \"ml.m4.xlarge\",\n",
      "            \"hosts\": [\n",
      "                \"algo-1\"\n",
      "            ]\n",
      "        }\n",
      "    },\n",
      "    \"is_hetero\": false,\n",
      "    \"is_master\": true,\n",
      "    \"is_modelparallel_enabled\": null,\n",
      "    \"is_smddpmprun_installed\": false,\n",
      "    \"job_name\": \"pytorch-training-2023-03-30-13-13-14-762\",\n",
      "    \"log_level\": 20,\n",
      "    \"master_hostname\": \"algo-1\",\n",
      "    \"model_dir\": \"/opt/ml/model\",\n",
      "    \"module_dir\": \"s3://sagemaker-us-west-2-782067938675/pytorch-training-2023-03-30-13-13-14-762/source/sourcedir.tar.gz\",\n",
      "    \"module_name\": \"train\",\n",
      "    \"network_interface_name\": \"eth0\",\n",
      "    \"num_cpus\": 4,\n",
      "    \"num_gpus\": 0,\n",
      "    \"num_neurons\": 0,\n",
      "    \"output_data_dir\": \"/opt/ml/output/data\",\n",
      "    \"output_dir\": \"/opt/ml/output\",\n",
      "    \"output_intermediate_dir\": \"/opt/ml/output/intermediate\",\n",
      "    \"resource_config\": {\n",
      "        \"current_host\": \"algo-1\",\n",
      "        \"current_instance_type\": \"ml.m4.xlarge\",\n",
      "        \"current_group_name\": \"homogeneousCluster\",\n",
      "        \"hosts\": [\n",
      "            \"algo-1\"\n",
      "        ],\n",
      "        \"instance_groups\": [\n",
      "            {\n",
      "                \"instance_group_name\": \"homogeneousCluster\",\n",
      "                \"instance_type\": \"ml.m4.xlarge\",\n",
      "                \"hosts\": [\n",
      "                    \"algo-1\"\n",
      "                ]\n",
      "            }\n",
      "        ],\n",
      "        \"network_interface_name\": \"eth0\"\n",
      "    },\n",
      "    \"user_entry_point\": \"train.py\"\u001b[0m\n",
      "\u001b[34m}\u001b[0m\n",
      "\u001b[34mEnvironment variables:\u001b[0m\n",
      "\u001b[34mSM_HOSTS=[\"algo-1\"]\u001b[0m\n",
      "\u001b[34mSM_NETWORK_INTERFACE_NAME=eth0\u001b[0m\n",
      "\u001b[34mSM_HPS={\"batch_size\":128,\"epochs\":200,\"input_dim\":8,\"lr\":0.01,\"output_dim\":1}\u001b[0m\n",
      "\u001b[34mSM_USER_ENTRY_POINT=train.py\u001b[0m\n",
      "\u001b[34mSM_FRAMEWORK_PARAMS={}\u001b[0m\n",
      "\u001b[34mSM_RESOURCE_CONFIG={\"current_group_name\":\"homogeneousCluster\",\"current_host\":\"algo-1\",\"current_instance_type\":\"ml.m4.xlarge\",\"hosts\":[\"algo-1\"],\"instance_groups\":[{\"hosts\":[\"algo-1\"],\"instance_group_name\":\"homogeneousCluster\",\"instance_type\":\"ml.m4.xlarge\"}],\"network_interface_name\":\"eth0\"}\u001b[0m\n",
      "\u001b[34mSM_INPUT_DATA_CONFIG={\"train\":{\"RecordWrapperType\":\"None\",\"S3DistributionType\":\"FullyReplicated\",\"TrainingInputMode\":\"File\"}}\u001b[0m\n",
      "\u001b[34mSM_OUTPUT_DATA_DIR=/opt/ml/output/data\u001b[0m\n",
      "\u001b[34mSM_CHANNELS=[\"train\"]\u001b[0m\n",
      "\u001b[34mSM_CURRENT_HOST=algo-1\u001b[0m\n",
      "\u001b[34mSM_CURRENT_INSTANCE_TYPE=ml.m4.xlarge\u001b[0m\n",
      "\u001b[34mSM_CURRENT_INSTANCE_GROUP=homogeneousCluster\u001b[0m\n",
      "\u001b[34mSM_CURRENT_INSTANCE_GROUP_HOSTS=[\"algo-1\"]\u001b[0m\n",
      "\u001b[34mSM_INSTANCE_GROUPS=[\"homogeneousCluster\"]\u001b[0m\n",
      "\u001b[34mSM_INSTANCE_GROUPS_DICT={\"homogeneousCluster\":{\"hosts\":[\"algo-1\"],\"instance_group_name\":\"homogeneousCluster\",\"instance_type\":\"ml.m4.xlarge\"}}\u001b[0m\n",
      "\u001b[34mSM_DISTRIBUTION_INSTANCE_GROUPS=[]\u001b[0m\n",
      "\u001b[34mSM_IS_HETERO=false\u001b[0m\n",
      "\u001b[34mSM_MODULE_NAME=train\u001b[0m\n",
      "\u001b[34mSM_LOG_LEVEL=20\u001b[0m\n",
      "\u001b[34mSM_FRAMEWORK_MODULE=sagemaker_pytorch_container.training:main\u001b[0m\n",
      "\u001b[34mSM_INPUT_DIR=/opt/ml/input\u001b[0m\n",
      "\u001b[34mSM_INPUT_CONFIG_DIR=/opt/ml/input/config\u001b[0m\n",
      "\u001b[34mSM_OUTPUT_DIR=/opt/ml/output\u001b[0m\n",
      "\u001b[34mSM_NUM_CPUS=4\u001b[0m\n",
      "\u001b[34mSM_NUM_GPUS=0\u001b[0m\n",
      "\u001b[34mSM_NUM_NEURONS=0\u001b[0m\n",
      "\u001b[34mSM_MODEL_DIR=/opt/ml/model\u001b[0m\n",
      "\u001b[34mSM_MODULE_DIR=s3://sagemaker-us-west-2-782067938675/pytorch-training-2023-03-30-13-13-14-762/source/sourcedir.tar.gz\u001b[0m\n",
      "\u001b[34mSM_TRAINING_ENV={\"additional_framework_parameters\":{},\"channel_input_dirs\":{\"train\":\"/opt/ml/input/data/train\"},\"current_host\":\"algo-1\",\"current_instance_group\":\"homogeneousCluster\",\"current_instance_group_hosts\":[\"algo-1\"],\"current_instance_type\":\"ml.m4.xlarge\",\"distribution_hosts\":[],\"distribution_instance_groups\":[],\"framework_module\":\"sagemaker_pytorch_container.training:main\",\"hosts\":[\"algo-1\"],\"hyperparameters\":{\"batch_size\":128,\"epochs\":200,\"input_dim\":8,\"lr\":0.01,\"output_dim\":1},\"input_config_dir\":\"/opt/ml/input/config\",\"input_data_config\":{\"train\":{\"RecordWrapperType\":\"None\",\"S3DistributionType\":\"FullyReplicated\",\"TrainingInputMode\":\"File\"}},\"input_dir\":\"/opt/ml/input\",\"instance_groups\":[\"homogeneousCluster\"],\"instance_groups_dict\":{\"homogeneousCluster\":{\"hosts\":[\"algo-1\"],\"instance_group_name\":\"homogeneousCluster\",\"instance_type\":\"ml.m4.xlarge\"}},\"is_hetero\":false,\"is_master\":true,\"is_modelparallel_enabled\":null,\"is_smddpmprun_installed\":false,\"job_name\":\"pytorch-training-2023-03-30-13-13-14-762\",\"log_level\":20,\"master_hostname\":\"algo-1\",\"model_dir\":\"/opt/ml/model\",\"module_dir\":\"s3://sagemaker-us-west-2-782067938675/pytorch-training-2023-03-30-13-13-14-762/source/sourcedir.tar.gz\",\"module_name\":\"train\",\"network_interface_name\":\"eth0\",\"num_cpus\":4,\"num_gpus\":0,\"num_neurons\":0,\"output_data_dir\":\"/opt/ml/output/data\",\"output_dir\":\"/opt/ml/output\",\"output_intermediate_dir\":\"/opt/ml/output/intermediate\",\"resource_config\":{\"current_group_name\":\"homogeneousCluster\",\"current_host\":\"algo-1\",\"current_instance_type\":\"ml.m4.xlarge\",\"hosts\":[\"algo-1\"],\"instance_groups\":[{\"hosts\":[\"algo-1\"],\"instance_group_name\":\"homogeneousCluster\",\"instance_type\":\"ml.m4.xlarge\"}],\"network_interface_name\":\"eth0\"},\"user_entry_point\":\"train.py\"}\u001b[0m\n",
      "\u001b[34mSM_USER_ARGS=[\"--batch_size\",\"128\",\"--epochs\",\"200\",\"--input_dim\",\"8\",\"--lr\",\"0.01\",\"--output_dim\",\"1\"]\u001b[0m\n",
      "\u001b[34mSM_OUTPUT_INTERMEDIATE_DIR=/opt/ml/output/intermediate\u001b[0m\n",
      "\u001b[34mSM_CHANNEL_TRAIN=/opt/ml/input/data/train\u001b[0m\n",
      "\u001b[34mSM_HP_BATCH_SIZE=128\u001b[0m\n",
      "\u001b[34mSM_HP_EPOCHS=200\u001b[0m\n",
      "\u001b[34mSM_HP_INPUT_DIM=8\u001b[0m\n",
      "\u001b[34mSM_HP_LR=0.01\u001b[0m\n",
      "\u001b[34mSM_HP_OUTPUT_DIM=1\u001b[0m\n",
      "\u001b[34mPYTHONPATH=/opt/ml/code:/opt/conda/bin:/opt/conda/lib/python39.zip:/opt/conda/lib/python3.9:/opt/conda/lib/python3.9/lib-dynload:/opt/conda/lib/python3.9/site-packages\u001b[0m\n",
      "\u001b[34mInvoking script with the following command:\u001b[0m\n",
      "\u001b[34m/opt/conda/bin/python3.9 train.py --batch_size 128 --epochs 200 --input_dim 8 --lr 0.01 --output_dim 1\u001b[0m\n",
      "\u001b[34m2023-03-30 13:16:47,065 sagemaker-training-toolkit INFO     Exceptions not imported for SageMaker TF as Tensorflow is not installed.\u001b[0m\n",
      "\u001b[34m[2023-03-30 13:16:49.897 algo-1:42 INFO utils.py:28] RULE_JOB_STOP_SIGNAL_FILENAME: None\u001b[0m\n",
      "\u001b[34m[2023-03-30 13:16:49.977 algo-1:42 INFO profiler_config_parser.py:111] User has disabled profiler.\u001b[0m\n",
      "\u001b[34m[2023-03-30 13:16:49.979 algo-1:42 INFO json_config.py:92] Creating hook from json_config at /opt/ml/input/config/debughookconfig.json.\u001b[0m\n",
      "\u001b[34m[2023-03-30 13:16:49.979 algo-1:42 INFO hook.py:206] tensorboard_dir has not been set for the hook. SMDebug will not be exporting tensorboard summaries.\u001b[0m\n",
      "\u001b[34m[2023-03-30 13:16:49.980 algo-1:42 INFO hook.py:259] Saving to /opt/ml/output/tensors\u001b[0m\n",
      "\u001b[34m[2023-03-30 13:16:49.980 algo-1:42 INFO state_store.py:77] The checkpoint config file /opt/ml/input/config/checkpointconfig.json does not exist.\u001b[0m\n",
      "\u001b[34mEpoch: 1, Loss: 1754539.044977152\u001b[0m\n",
      "\u001b[34mEpoch: 2, Loss: 902486.6357790389\u001b[0m\n",
      "\u001b[34mEpoch: 3, Loss: 903295.5643057193\u001b[0m\n",
      "\u001b[34mEpoch: 4, Loss: 901651.5712522111\u001b[0m\n",
      "\u001b[34mEpoch: 5, Loss: 902133.564268868\u001b[0m\n",
      "\u001b[34mEpoch: 6, Loss: 903023.9059367629\u001b[0m\n",
      "\u001b[34mEpoch: 7, Loss: 904853.1494324883\u001b[0m\n",
      "\u001b[34mEpoch: 8, Loss: 904728.4909529776\u001b[0m\n",
      "\u001b[34mEpoch: 9, Loss: 899563.2341723172\u001b[0m\n",
      "\u001b[34mEpoch: 10, Loss: 899192.1729805424\u001b[0m\n",
      "\u001b[34mEpoch: 11, Loss: 902969.659271816\u001b[0m\n",
      "\u001b[34mEpoch: 12, Loss: 901174.3841760023\u001b[0m\n",
      "\u001b[34mEpoch: 13, Loss: 893094.9903449293\u001b[0m\n",
      "\u001b[34mEpoch: 14, Loss: 900809.9733195754\u001b[0m\n",
      "\u001b[34mEpoch: 15, Loss: 905347.5765403891\u001b[0m\n",
      "\u001b[34mEpoch: 16, Loss: 903223.4571418043\u001b[0m\n",
      "\u001b[34mEpoch: 17, Loss: 896408.3495540979\u001b[0m\n",
      "\u001b[34mEpoch: 18, Loss: 895536.9780365566\u001b[0m\n",
      "\u001b[34mEpoch: 19, Loss: 899780.3211785082\u001b[0m\n",
      "\u001b[34mEpoch: 20, Loss: 901508.1818985849\u001b[0m\n",
      "\u001b[34mEpoch: 21, Loss: 897322.9722877359\u001b[0m\n",
      "\u001b[34mEpoch: 22, Loss: 896911.9687868514\u001b[0m\n",
      "\u001b[34mEpoch: 23, Loss: 898257.1453051297\u001b[0m\n",
      "\u001b[34mEpoch: 24, Loss: 901709.9075397996\u001b[0m\n",
      "\u001b[34mEpoch: 25, Loss: 898385.1453419811\u001b[0m\n",
      "\u001b[34mEpoch: 26, Loss: 899250.7421506486\u001b[0m\n",
      "\u001b[34mEpoch: 27, Loss: 897280.3359743514\u001b[0m\n",
      "\u001b[34mEpoch: 28, Loss: 899640.0448665979\u001b[0m\n",
      "\u001b[34mEpoch: 29, Loss: 895111.3347214033\u001b[0m\n",
      "\u001b[34mEpoch: 30, Loss: 897485.2146410672\u001b[0m\n",
      "\u001b[34mEpoch: 31, Loss: 895712.8382775648\u001b[0m\n",
      "\u001b[34mEpoch: 32, Loss: 907642.1698850236\u001b[0m\n",
      "\u001b[34mEpoch: 33, Loss: 904799.8517099057\u001b[0m\n",
      "\u001b[34mEpoch: 34, Loss: 894379.4792158019\u001b[0m\n",
      "\u001b[34mEpoch: 35, Loss: 900367.0254274764\u001b[0m\n",
      "\u001b[34mEpoch: 36, Loss: 898585.0743293043\u001b[0m\n",
      "\u001b[34mEpoch: 37, Loss: 896414.4436173349\u001b[0m\n",
      "\u001b[34mEpoch: 38, Loss: 896129.4655439269\u001b[0m\n",
      "\u001b[34mEpoch: 39, Loss: 899894.5723024764\u001b[0m\n",
      "\u001b[34mEpoch: 40, Loss: 899598.9614902713\u001b[0m\n",
      "\u001b[34mEpoch: 41, Loss: 900681.7675044222\u001b[0m\n",
      "\u001b[34mEpoch: 42, Loss: 899876.1735517394\u001b[0m\n",
      "\u001b[34mEpoch: 43, Loss: 897546.3155402418\u001b[0m\n",
      "\u001b[34mEpoch: 44, Loss: 892921.8259323408\u001b[0m\n",
      "\u001b[34mEpoch: 45, Loss: 905943.1508512677\u001b[0m\n",
      "\u001b[34mEpoch: 46, Loss: 894511.6368845814\u001b[0m\n",
      "\u001b[34mEpoch: 47, Loss: 897439.057709316\u001b[0m\n",
      "\u001b[34mEpoch: 48, Loss: 895810.9554282135\u001b[0m\n",
      "\u001b[34mEpoch: 49, Loss: 893141.8430866746\u001b[0m\n",
      "\u001b[34mEpoch: 50, Loss: 896117.2691258844\u001b[0m\n",
      "\u001b[34mEpoch: 51, Loss: 891885.5674380896\u001b[0m\n",
      "\u001b[34mEpoch: 52, Loss: 896906.6528043927\u001b[0m\n",
      "\u001b[34mEpoch: 53, Loss: 898807.5536556604\u001b[0m\n",
      "\u001b[34mEpoch: 54, Loss: 895627.4960200472\u001b[0m\n",
      "\u001b[34mEpoch: 55, Loss: 896000.5783461084\u001b[0m\n",
      "\u001b[34mEpoch: 56, Loss: 896100.1758918043\u001b[0m\n",
      "\u001b[34mEpoch: 57, Loss: 901191.9949882076\u001b[0m\n",
      "\u001b[34mEpoch: 58, Loss: 896356.0762824293\u001b[0m\n",
      "\u001b[34mEpoch: 59, Loss: 900962.070128243\u001b[0m\n",
      "\u001b[34mEpoch: 60, Loss: 896376.8809330778\u001b[0m\n",
      "\u001b[34mEpoch: 61, Loss: 896790.924712559\u001b[0m\n",
      "\u001b[34mEpoch: 62, Loss: 896221.4355100236\u001b[0m\n",
      "\u001b[34mEpoch: 63, Loss: 897251.1086379717\u001b[0m\n",
      "\u001b[34mEpoch: 64, Loss: 897820.8388487617\u001b[0m\n",
      "\u001b[34mEpoch: 65, Loss: 899160.5475383254\u001b[0m\n",
      "\u001b[34mEpoch: 66, Loss: 898121.1377137383\u001b[0m\n",
      "\u001b[34mEpoch: 67, Loss: 896046.4650648584\u001b[0m\n",
      "\u001b[34mEpoch: 68, Loss: 890873.9064711084\u001b[0m\n",
      "\u001b[34mEpoch: 69, Loss: 895727.6939121463\u001b[0m\n",
      "\u001b[34mEpoch: 70, Loss: 898560.2684257076\u001b[0m\n",
      "\u001b[34mEpoch: 71, Loss: 896071.7195607311\u001b[0m\n",
      "\u001b[34mEpoch: 72, Loss: 897080.8440816627\u001b[0m\n",
      "\u001b[34mEpoch: 73, Loss: 899269.5547243514\u001b[0m\n",
      "\u001b[34mEpoch: 74, Loss: 905794.8066037736\u001b[0m\n",
      "\u001b[34mEpoch: 75, Loss: 896388.4596477004\u001b[0m\n",
      "\u001b[34mEpoch: 76, Loss: 892393.0407945166\u001b[0m\n",
      "\u001b[34mEpoch: 77, Loss: 902273.7595445166\u001b[0m\n",
      "\u001b[34mEpoch: 78, Loss: 898766.2622715213\u001b[0m\n",
      "\u001b[34mEpoch: 79, Loss: 900784.5278596698\u001b[0m\n",
      "\u001b[34mEpoch: 80, Loss: 890280.0742740271\u001b[0m\n",
      "\u001b[34mEpoch: 81, Loss: 896265.5435583727\u001b[0m\n",
      "\u001b[34mEpoch: 82, Loss: 893553.254790684\u001b[0m\n",
      "\u001b[34mEpoch: 83, Loss: 896738.1890846109\u001b[0m\n",
      "\u001b[34mEpoch: 84, Loss: 896798.567032724\u001b[0m\n",
      "\u001b[34mEpoch: 85, Loss: 895750.7851378242\u001b[0m\n",
      "\u001b[34mEpoch: 86, Loss: 898322.2410635318\u001b[0m\n",
      "\u001b[34mEpoch: 87, Loss: 897763.8925412736\u001b[0m\n",
      "\u001b[34mEpoch: 88, Loss: 896653.8390330189\u001b[0m\n",
      "\u001b[34mEpoch: 89, Loss: 897619.5832473467\u001b[0m\n",
      "\u001b[34mEpoch: 90, Loss: 891518.6853073408\u001b[0m\n",
      "\u001b[34mEpoch: 91, Loss: 898657.3509728773\u001b[0m\n",
      "\u001b[34mEpoch: 92, Loss: 902520.4007775648\u001b[0m\n",
      "\u001b[34mEpoch: 93, Loss: 900585.0970666273\u001b[0m\n",
      "\u001b[34mEpoch: 94, Loss: 892588.5073887088\u001b[0m\n",
      "\u001b[34mEpoch: 95, Loss: 895154.902159493\u001b[0m\n",
      "\u001b[34mEpoch: 96, Loss: 904282.6563237028\u001b[0m\n",
      "\u001b[34mEpoch: 97, Loss: 897268.3838996168\u001b[0m\n",
      "\u001b[34mEpoch: 98, Loss: 905343.5093418338\u001b[0m\n",
      "\u001b[34mEpoch: 99, Loss: 900294.6242629717\u001b[0m\n",
      "\u001b[34mEpoch: 100, Loss: 896534.2080815153\u001b[0m\n",
      "\u001b[34mEpoch: 101, Loss: 898044.9941774764\u001b[0m\n",
      "\u001b[34mEpoch: 102, Loss: 896008.4691737912\u001b[0m\n",
      "\u001b[34mEpoch: 103, Loss: 894293.4712006191\u001b[0m\n",
      "\u001b[34mEpoch: 104, Loss: 896864.7131117334\u001b[0m\n",
      "\u001b[34mEpoch: 105, Loss: 898850.0012160967\u001b[0m\n",
      "\u001b[34mEpoch: 106, Loss: 897198.659529776\u001b[0m\n",
      "\u001b[34mEpoch: 107, Loss: 899493.598724941\u001b[0m\n",
      "\u001b[34mEpoch: 108, Loss: 901813.3592275943\u001b[0m\n",
      "\u001b[34mEpoch: 109, Loss: 896160.0847582547\u001b[0m\n",
      "\u001b[34mEpoch: 110, Loss: 893256.8327682783\u001b[0m\n",
      "\u001b[34mEpoch: 111, Loss: 897751.3512308373\u001b[0m\n",
      "\u001b[34mEpoch: 112, Loss: 897767.5469855543\u001b[0m\n",
      "\u001b[34mEpoch: 113, Loss: 895693.7233564269\u001b[0m\n",
      "\u001b[34mEpoch: 114, Loss: 891774.7209610849\u001b[0m\n",
      "\u001b[34mEpoch: 115, Loss: 894187.7945165094\u001b[0m\n",
      "\u001b[34mEpoch: 116, Loss: 903334.5867666568\u001b[0m\n",
      "\u001b[34mEpoch: 117, Loss: 899407.9812794811\u001b[0m\n",
      "\u001b[34mEpoch: 118, Loss: 901718.7539983785\u001b[0m\n",
      "\u001b[34mEpoch: 119, Loss: 893500.3537551592\u001b[0m\n",
      "\u001b[34mEpoch: 120, Loss: 894616.8517836084\u001b[0m\n",
      "\u001b[34mEpoch: 121, Loss: 898918.3052218455\u001b[0m\n",
      "\u001b[34mEpoch: 122, Loss: 894632.2776938385\u001b[0m\n",
      "\u001b[34mEpoch: 123, Loss: 899409.3121683373\u001b[0m\n",
      "\u001b[34mEpoch: 124, Loss: 894810.0036482901\u001b[0m\n",
      "\u001b[34mEpoch: 125, Loss: 894608.2743587854\u001b[0m\n",
      "\u001b[34mEpoch: 126, Loss: 899051.1472582547\u001b[0m\n",
      "\u001b[34mEpoch: 127, Loss: 897731.856979658\u001b[0m\n",
      "\u001b[34mEpoch: 128, Loss: 897976.3203493514\u001b[0m\n",
      "\u001b[34mEpoch: 129, Loss: 900531.9309772996\u001b[0m\n",
      "\u001b[34mEpoch: 130, Loss: 899476.0015846109\u001b[0m\n",
      "\u001b[34mEpoch: 131, Loss: 896070.9755675117\u001b[0m\n",
      "\u001b[34mEpoch: 132, Loss: 896686.1895268278\u001b[0m\n",
      "\u001b[34mEpoch: 133, Loss: 894731.8976267689\u001b[0m\n",
      "\u001b[34mEpoch: 134, Loss: 899603.6682267099\u001b[0m\n",
      "\u001b[34mEpoch: 135, Loss: 893681.9101009729\u001b[0m\n",
      "\u001b[34mEpoch: 136, Loss: 902325.1444575472\u001b[0m\n",
      "\u001b[34mEpoch: 137, Loss: 891166.1615197523\u001b[0m\n",
      "\u001b[34mEpoch: 138, Loss: 897036.6814932193\u001b[0m\n",
      "\u001b[34mEpoch: 139, Loss: 899625.7756854363\u001b[0m\n",
      "\u001b[34mEpoch: 140, Loss: 894067.9558151533\u001b[0m\n",
      "\u001b[34mEpoch: 141, Loss: 893683.1419147996\u001b[0m\n",
      "\u001b[34mEpoch: 142, Loss: 893425.3036925117\u001b[0m\n",
      "\u001b[34mEpoch: 143, Loss: 898414.621978184\u001b[0m\n",
      "\u001b[34mEpoch: 144, Loss: 891730.7083210496\u001b[0m\n",
      "\u001b[34mEpoch: 145, Loss: 893780.6051370873\u001b[0m\n",
      "\u001b[34mEpoch: 146, Loss: 893326.2046727594\u001b[0m\n",
      "\u001b[34mEpoch: 147, Loss: 898787.0700545401\u001b[0m\n",
      "\u001b[34mEpoch: 148, Loss: 894840.577940743\u001b[0m\n",
      "\u001b[34mEpoch: 149, Loss: 899265.4795106133\u001b[0m\n",
      "\u001b[34mEpoch: 150, Loss: 892195.9256706957\u001b[0m\n",
      "\u001b[34mEpoch: 151, Loss: 897074.9239018278\u001b[0m\n",
      "\u001b[34mEpoch: 152, Loss: 895291.8650132666\u001b[0m\n",
      "\u001b[34mEpoch: 153, Loss: 897065.5178729363\u001b[0m\n",
      "\u001b[34mEpoch: 154, Loss: 898152.5979510613\u001b[0m\n",
      "\u001b[34mEpoch: 155, Loss: 894953.7184551887\u001b[0m\n",
      "\u001b[34mEpoch: 156, Loss: 895482.3836048055\u001b[0m\n",
      "\u001b[34mEpoch: 157, Loss: 893551.3533866451\u001b[0m\n",
      "\u001b[34mEpoch: 158, Loss: 896308.1953493514\u001b[0m\n",
      "\u001b[34mEpoch: 159, Loss: 891997.8432709316\u001b[0m\n",
      "\u001b[34mEpoch: 160, Loss: 897514.4792710791\u001b[0m\n",
      "\u001b[34mEpoch: 161, Loss: 902778.6982606133\u001b[0m\n",
      "\u001b[34mEpoch: 162, Loss: 898901.0111291273\u001b[0m\n",
      "\u001b[34mEpoch: 163, Loss: 896893.1390588148\u001b[0m\n",
      "\u001b[34mEpoch: 164, Loss: 894169.8396779186\u001b[0m\n",
      "\u001b[34mEpoch: 165, Loss: 895644.122162441\u001b[0m\n",
      "\u001b[34mEpoch: 166, Loss: 892361.3707989387\u001b[0m\n",
      "\u001b[34mEpoch: 167, Loss: 897413.8914357311\u001b[0m\n",
      "\u001b[34mEpoch: 168, Loss: 904876.7126326651\u001b[0m\n",
      "\u001b[34mEpoch: 169, Loss: 897881.007996757\u001b[0m\n",
      "\u001b[34mEpoch: 170, Loss: 895885.174454599\u001b[0m\n",
      "\u001b[34mEpoch: 171, Loss: 901267.6484190742\u001b[0m\n",
      "\u001b[34mEpoch: 172, Loss: 891758.8004127359\u001b[0m\n",
      "\u001b[34mEpoch: 173, Loss: 895858.6095961084\u001b[0m\n",
      "\u001b[34mEpoch: 174, Loss: 891693.3808225236\u001b[0m\n",
      "\u001b[34mEpoch: 175, Loss: 893541.2886755602\u001b[0m\n",
      "\u001b[34mEpoch: 176, Loss: 899148.7400869693\u001b[0m\n",
      "\u001b[34mEpoch: 177, Loss: 897397.8925044222\u001b[0m\n",
      "\u001b[34mEpoch: 178, Loss: 896010.4988207547\u001b[0m\n",
      "\u001b[34mEpoch: 179, Loss: 894327.8531102594\u001b[0m\n",
      "\u001b[34mEpoch: 180, Loss: 896278.0691701061\u001b[0m\n",
      "\u001b[34mEpoch: 181, Loss: 898348.9592423349\u001b[0m\n",
      "\u001b[34mEpoch: 182, Loss: 894811.9822007666\u001b[0m\n",
      "\u001b[34mEpoch: 183, Loss: 897434.3428287146\u001b[0m\n",
      "\u001b[34mEpoch: 184, Loss: 892223.1181272111\u001b[0m\n",
      "\u001b[34mEpoch: 185, Loss: 891426.9725456957\u001b[0m\n",
      "\u001b[34mEpoch: 186, Loss: 891669.7902417453\u001b[0m\n",
      "\u001b[34mEpoch: 187, Loss: 894854.1563237028\u001b[0m\n",
      "\u001b[34mEpoch: 188, Loss: 899974.161482901\u001b[0m\n",
      "\u001b[34mEpoch: 189, Loss: 895547.8176223467\u001b[0m\n",
      "\u001b[34mEpoch: 190, Loss: 895360.9599793633\u001b[0m\n",
      "\u001b[34mEpoch: 191, Loss: 897038.6078456662\u001b[0m\n",
      "\u001b[34mEpoch: 192, Loss: 896423.4665020637\u001b[0m\n",
      "\u001b[34mEpoch: 193, Loss: 897028.465470224\u001b[0m\n",
      "\u001b[34mEpoch: 194, Loss: 892174.9503242924\u001b[0m\n",
      "\u001b[34mEpoch: 195, Loss: 896603.418853184\u001b[0m\n",
      "\u001b[34mEpoch: 196, Loss: 892046.7513819281\u001b[0m\n",
      "\u001b[34mEpoch: 197, Loss: 892516.0750294811\u001b[0m\n",
      "\u001b[34mEpoch: 198, Loss: 900065.4377211084\u001b[0m\n",
      "\u001b[34mEpoch: 199, Loss: 889922.0780328715\u001b[0m\n",
      "\u001b[34mEpoch: 200, Loss: 898346.4796211674\u001b[0m\n",
      "\u001b[34m2023-03-30 13:18:39,644 sagemaker-training-toolkit INFO     Waiting for the process to finish and give a return code.\u001b[0m\n",
      "\u001b[34m2023-03-30 13:18:39,644 sagemaker-training-toolkit INFO     Done waiting for a return code. Received 0 from exiting process.\u001b[0m\n",
      "\u001b[34m2023-03-30 13:18:39,645 sagemaker-training-toolkit INFO     Reporting training SUCCESS\u001b[0m\n",
      "\n",
      "2023-03-30 13:18:57 Uploading - Uploading generated training model\n",
      "2023-03-30 13:18:57 Completed - Instances not retained as a result of warmpool resource limits being exceeded\n",
      "Training seconds: 247\n",
      "Billable seconds: 247\n",
      "CPU times: user 2.06 s, sys: 76.9 ms, total: 2.13 s\n",
      "Wall time: 6min 6s\n"
     ]
    }
   ],
   "source": [
    "%%time\n",
    "estimator.fit({'train': f\"s3://{bucket}/{prefix}/medicare.csv\"})"
   ]
  },
  {
   "cell_type": "code",
   "execution_count": 38,
   "id": "bb6ef46e-3b09-4f0a-8ea5-7f76ae11efd7",
   "metadata": {
    "tags": []
   },
   "outputs": [
    {
     "name": "stderr",
     "output_type": "stream",
     "text": [
      "INFO:sagemaker:Creating model with name: pytorch-inference-2023-03-30-13-19-22-718\n",
      "INFO:sagemaker:Creating endpoint-config with name pytorch-inference-2023-03-30-13-19-23-473\n",
      "INFO:sagemaker:Creating endpoint with name pytorch-inference-2023-03-30-13-19-23-473\n"
     ]
    },
    {
     "name": "stdout",
     "output_type": "stream",
     "text": [
      "------!CPU times: user 1.12 s, sys: 59.7 ms, total: 1.18 s\n",
      "Wall time: 3min 34s\n"
     ]
    }
   ],
   "source": [
    "%%time\n",
    "from sagemaker.pytorch import PyTorchModel\n",
    "from sagemaker.model_monitor import DataCaptureConfig\n",
    "s3_capture_upload_path=f\"s3://{default_bucket}/model_monitor_data/\"\n",
    "\n",
    "# Create a model from the trained estimator data, basically transferring trained parameters.\n",
    "model = PyTorchModel(source_dir='source',\n",
    "                     entry_point='predict.py',\n",
    "                     framework_version='1.13.1',\n",
    "                     py_version='py39',\n",
    "                     model_data=estimator.model_data,\n",
    "                     role=role\n",
    "                    ) \n",
    "\n",
    "predictor = model.deploy(initial_instance_count=1,\n",
    "                         instance_type='ml.m4.xlarge',\n",
    "                         data_capture_config=DataCaptureConfig(\n",
    "                             enable_capture=True, sampling_percentage=100, destination_s3_uri=s3_capture_upload_path\n",
    "                         )\n",
    "                        )"
   ]
  },
  {
   "cell_type": "code",
   "execution_count": 39,
   "id": "05d03529-2d90-489b-9197-dd7585c16bed",
   "metadata": {
    "tags": []
   },
   "outputs": [
    {
     "name": "stdout",
     "output_type": "stream",
     "text": [
      "download: s3://chadderw-30day-bucket/medicare/medicare.csv to ./medicare.csv\n"
     ]
    }
   ],
   "source": [
    "!aws s3 cp s3://chadderw-30day-bucket/medicare/medicare.csv ."
   ]
  },
  {
   "cell_type": "code",
   "execution_count": 40,
   "id": "8e0ed361-1b12-4785-b935-d24b69dc9883",
   "metadata": {
    "tags": []
   },
   "outputs": [],
   "source": [
    "import pandas as pd\n",
    "from sklearn.model_selection import train_test_split\n",
    "\n",
    "df = pd.read_csv(\"medicare.csv\")\n",
    "df_arr = df.to_numpy()\n",
    "\n",
    "X_train, X_val, y_train, y_val = train_test_split(df_arr[:, 1:9], df_arr[:, 0:1], test_size=0.2, stratify=df_arr[:, 9:10])"
   ]
  },
  {
   "cell_type": "code",
   "execution_count": 41,
   "id": "9b4c4839-8c01-49d5-a2d0-489c025a8156",
   "metadata": {
    "tags": []
   },
   "outputs": [
    {
     "data": {
      "text/plain": [
       "numpy.ndarray"
      ]
     },
     "execution_count": 41,
     "metadata": {},
     "output_type": "execute_result"
    }
   ],
   "source": [
    "type(X_val)"
   ]
  },
  {
   "cell_type": "code",
   "execution_count": 42,
   "id": "075f8413-4355-454d-9716-1380d9ce6c04",
   "metadata": {
    "tags": []
   },
   "outputs": [],
   "source": [
    "preds = predictor.predict(X_val)"
   ]
  },
  {
   "cell_type": "code",
   "execution_count": 44,
   "id": "641fe644-46ed-4f41-a1b7-c2dc2489de16",
   "metadata": {
    "tags": []
   },
   "outputs": [
    {
     "ename": "TypeError",
     "evalue": "'NoneType' object is not iterable",
     "output_type": "error",
     "traceback": [
      "\u001b[0;31m---------------------------------------------------------------------------\u001b[0m",
      "\u001b[0;31mTypeError\u001b[0m                                 Traceback (most recent call last)",
      "\u001b[0;32m<ipython-input-44-de7edcbeffbb>\u001b[0m in \u001b[0;36m<module>\u001b[0;34m\u001b[0m\n\u001b[1;32m      1\u001b[0m \u001b[0ms3_client\u001b[0m \u001b[0;34m=\u001b[0m \u001b[0mboto3\u001b[0m\u001b[0;34m.\u001b[0m\u001b[0mSession\u001b[0m\u001b[0;34m(\u001b[0m\u001b[0;34m)\u001b[0m\u001b[0;34m.\u001b[0m\u001b[0mclient\u001b[0m\u001b[0;34m(\u001b[0m\u001b[0;34m\"s3\"\u001b[0m\u001b[0;34m)\u001b[0m\u001b[0;34m\u001b[0m\u001b[0;34m\u001b[0m\u001b[0m\n\u001b[1;32m      2\u001b[0m \u001b[0mresult\u001b[0m \u001b[0;34m=\u001b[0m \u001b[0ms3_client\u001b[0m\u001b[0;34m.\u001b[0m\u001b[0mlist_objects\u001b[0m\u001b[0;34m(\u001b[0m\u001b[0mBucket\u001b[0m\u001b[0;34m=\u001b[0m\u001b[0mdefault_bucket\u001b[0m\u001b[0;34m,\u001b[0m \u001b[0mPrefix\u001b[0m\u001b[0;34m=\u001b[0m\u001b[0;34m\"model_monitor_data\"\u001b[0m\u001b[0;34m)\u001b[0m\u001b[0;34m\u001b[0m\u001b[0;34m\u001b[0m\u001b[0m\n\u001b[0;32m----> 3\u001b[0;31m \u001b[0mcapture_files\u001b[0m \u001b[0;34m=\u001b[0m \u001b[0;34m[\u001b[0m\u001b[0mcapture_file\u001b[0m\u001b[0;34m.\u001b[0m\u001b[0mget\u001b[0m\u001b[0;34m(\u001b[0m\u001b[0;34m\"Key\"\u001b[0m\u001b[0;34m)\u001b[0m \u001b[0;32mfor\u001b[0m \u001b[0mcapture_file\u001b[0m \u001b[0;32min\u001b[0m \u001b[0mresult\u001b[0m\u001b[0;34m.\u001b[0m\u001b[0mget\u001b[0m\u001b[0;34m(\u001b[0m\u001b[0;34m\"Contents\"\u001b[0m\u001b[0;34m)\u001b[0m\u001b[0;34m]\u001b[0m\u001b[0;34m\u001b[0m\u001b[0;34m\u001b[0m\u001b[0m\n\u001b[0m\u001b[1;32m      4\u001b[0m \u001b[0mprint\u001b[0m\u001b[0;34m(\u001b[0m\u001b[0;34m\"Found Capture Files:\"\u001b[0m\u001b[0;34m)\u001b[0m\u001b[0;34m\u001b[0m\u001b[0;34m\u001b[0m\u001b[0m\n\u001b[1;32m      5\u001b[0m \u001b[0mprint\u001b[0m\u001b[0;34m(\u001b[0m\u001b[0;34m\"\\n \"\u001b[0m\u001b[0;34m.\u001b[0m\u001b[0mjoin\u001b[0m\u001b[0;34m(\u001b[0m\u001b[0mcapture_files\u001b[0m\u001b[0;34m)\u001b[0m\u001b[0;34m)\u001b[0m\u001b[0;34m\u001b[0m\u001b[0;34m\u001b[0m\u001b[0m\n",
      "\u001b[0;31mTypeError\u001b[0m: 'NoneType' object is not iterable"
     ]
    }
   ],
   "source": [
    "s3_client = boto3.Session().client(\"s3\")\n",
    "result = s3_client.list_objects(Bucket=default_bucket, Prefix=\"model_monitor_data\")\n",
    "capture_files = [capture_file.get(\"Key\") for capture_file in result.get(\"Contents\")]\n",
    "print(\"Found Capture Files:\")\n",
    "print(\"\\n \".join(capture_files))"
   ]
  },
  {
   "cell_type": "code",
   "execution_count": null,
   "id": "2a671815-0ded-40a1-9eb6-37b680aedea7",
   "metadata": {
    "tags": []
   },
   "outputs": [],
   "source": [
    "def get_obj_body(obj_key):\n",
    "    return s3_client.get_object(Bucket=bucket, Key=obj_key).get(\"Body\").read().decode(\"utf-8\")\n",
    "\n",
    "\n",
    "capture_file = get_obj_body(capture_files[-1])\n",
    "print(capture_file[:2000])"
   ]
  },
  {
   "cell_type": "code",
   "execution_count": null,
   "id": "79e5cc92-78bc-48c1-950c-2d793afc3cb8",
   "metadata": {},
   "outputs": [],
   "source": []
  }
 ],
 "metadata": {
  "availableInstances": [
   {
    "_defaultOrder": 0,
    "_isFastLaunch": true,
    "category": "General purpose",
    "gpuNum": 0,
    "hideHardwareSpecs": false,
    "memoryGiB": 4,
    "name": "ml.t3.medium",
    "vcpuNum": 2
   },
   {
    "_defaultOrder": 1,
    "_isFastLaunch": false,
    "category": "General purpose",
    "gpuNum": 0,
    "hideHardwareSpecs": false,
    "memoryGiB": 8,
    "name": "ml.t3.large",
    "vcpuNum": 2
   },
   {
    "_defaultOrder": 2,
    "_isFastLaunch": false,
    "category": "General purpose",
    "gpuNum": 0,
    "hideHardwareSpecs": false,
    "memoryGiB": 16,
    "name": "ml.t3.xlarge",
    "vcpuNum": 4
   },
   {
    "_defaultOrder": 3,
    "_isFastLaunch": false,
    "category": "General purpose",
    "gpuNum": 0,
    "hideHardwareSpecs": false,
    "memoryGiB": 32,
    "name": "ml.t3.2xlarge",
    "vcpuNum": 8
   },
   {
    "_defaultOrder": 4,
    "_isFastLaunch": true,
    "category": "General purpose",
    "gpuNum": 0,
    "hideHardwareSpecs": false,
    "memoryGiB": 8,
    "name": "ml.m5.large",
    "vcpuNum": 2
   },
   {
    "_defaultOrder": 5,
    "_isFastLaunch": false,
    "category": "General purpose",
    "gpuNum": 0,
    "hideHardwareSpecs": false,
    "memoryGiB": 16,
    "name": "ml.m5.xlarge",
    "vcpuNum": 4
   },
   {
    "_defaultOrder": 6,
    "_isFastLaunch": false,
    "category": "General purpose",
    "gpuNum": 0,
    "hideHardwareSpecs": false,
    "memoryGiB": 32,
    "name": "ml.m5.2xlarge",
    "vcpuNum": 8
   },
   {
    "_defaultOrder": 7,
    "_isFastLaunch": false,
    "category": "General purpose",
    "gpuNum": 0,
    "hideHardwareSpecs": false,
    "memoryGiB": 64,
    "name": "ml.m5.4xlarge",
    "vcpuNum": 16
   },
   {
    "_defaultOrder": 8,
    "_isFastLaunch": false,
    "category": "General purpose",
    "gpuNum": 0,
    "hideHardwareSpecs": false,
    "memoryGiB": 128,
    "name": "ml.m5.8xlarge",
    "vcpuNum": 32
   },
   {
    "_defaultOrder": 9,
    "_isFastLaunch": false,
    "category": "General purpose",
    "gpuNum": 0,
    "hideHardwareSpecs": false,
    "memoryGiB": 192,
    "name": "ml.m5.12xlarge",
    "vcpuNum": 48
   },
   {
    "_defaultOrder": 10,
    "_isFastLaunch": false,
    "category": "General purpose",
    "gpuNum": 0,
    "hideHardwareSpecs": false,
    "memoryGiB": 256,
    "name": "ml.m5.16xlarge",
    "vcpuNum": 64
   },
   {
    "_defaultOrder": 11,
    "_isFastLaunch": false,
    "category": "General purpose",
    "gpuNum": 0,
    "hideHardwareSpecs": false,
    "memoryGiB": 384,
    "name": "ml.m5.24xlarge",
    "vcpuNum": 96
   },
   {
    "_defaultOrder": 12,
    "_isFastLaunch": false,
    "category": "General purpose",
    "gpuNum": 0,
    "hideHardwareSpecs": false,
    "memoryGiB": 8,
    "name": "ml.m5d.large",
    "vcpuNum": 2
   },
   {
    "_defaultOrder": 13,
    "_isFastLaunch": false,
    "category": "General purpose",
    "gpuNum": 0,
    "hideHardwareSpecs": false,
    "memoryGiB": 16,
    "name": "ml.m5d.xlarge",
    "vcpuNum": 4
   },
   {
    "_defaultOrder": 14,
    "_isFastLaunch": false,
    "category": "General purpose",
    "gpuNum": 0,
    "hideHardwareSpecs": false,
    "memoryGiB": 32,
    "name": "ml.m5d.2xlarge",
    "vcpuNum": 8
   },
   {
    "_defaultOrder": 15,
    "_isFastLaunch": false,
    "category": "General purpose",
    "gpuNum": 0,
    "hideHardwareSpecs": false,
    "memoryGiB": 64,
    "name": "ml.m5d.4xlarge",
    "vcpuNum": 16
   },
   {
    "_defaultOrder": 16,
    "_isFastLaunch": false,
    "category": "General purpose",
    "gpuNum": 0,
    "hideHardwareSpecs": false,
    "memoryGiB": 128,
    "name": "ml.m5d.8xlarge",
    "vcpuNum": 32
   },
   {
    "_defaultOrder": 17,
    "_isFastLaunch": false,
    "category": "General purpose",
    "gpuNum": 0,
    "hideHardwareSpecs": false,
    "memoryGiB": 192,
    "name": "ml.m5d.12xlarge",
    "vcpuNum": 48
   },
   {
    "_defaultOrder": 18,
    "_isFastLaunch": false,
    "category": "General purpose",
    "gpuNum": 0,
    "hideHardwareSpecs": false,
    "memoryGiB": 256,
    "name": "ml.m5d.16xlarge",
    "vcpuNum": 64
   },
   {
    "_defaultOrder": 19,
    "_isFastLaunch": false,
    "category": "General purpose",
    "gpuNum": 0,
    "hideHardwareSpecs": false,
    "memoryGiB": 384,
    "name": "ml.m5d.24xlarge",
    "vcpuNum": 96
   },
   {
    "_defaultOrder": 20,
    "_isFastLaunch": false,
    "category": "General purpose",
    "gpuNum": 0,
    "hideHardwareSpecs": true,
    "memoryGiB": 0,
    "name": "ml.geospatial.interactive",
    "supportedImageNames": [
     "sagemaker-geospatial-v1-0"
    ],
    "vcpuNum": 0
   },
   {
    "_defaultOrder": 21,
    "_isFastLaunch": true,
    "category": "Compute optimized",
    "gpuNum": 0,
    "hideHardwareSpecs": false,
    "memoryGiB": 4,
    "name": "ml.c5.large",
    "vcpuNum": 2
   },
   {
    "_defaultOrder": 22,
    "_isFastLaunch": false,
    "category": "Compute optimized",
    "gpuNum": 0,
    "hideHardwareSpecs": false,
    "memoryGiB": 8,
    "name": "ml.c5.xlarge",
    "vcpuNum": 4
   },
   {
    "_defaultOrder": 23,
    "_isFastLaunch": false,
    "category": "Compute optimized",
    "gpuNum": 0,
    "hideHardwareSpecs": false,
    "memoryGiB": 16,
    "name": "ml.c5.2xlarge",
    "vcpuNum": 8
   },
   {
    "_defaultOrder": 24,
    "_isFastLaunch": false,
    "category": "Compute optimized",
    "gpuNum": 0,
    "hideHardwareSpecs": false,
    "memoryGiB": 32,
    "name": "ml.c5.4xlarge",
    "vcpuNum": 16
   },
   {
    "_defaultOrder": 25,
    "_isFastLaunch": false,
    "category": "Compute optimized",
    "gpuNum": 0,
    "hideHardwareSpecs": false,
    "memoryGiB": 72,
    "name": "ml.c5.9xlarge",
    "vcpuNum": 36
   },
   {
    "_defaultOrder": 26,
    "_isFastLaunch": false,
    "category": "Compute optimized",
    "gpuNum": 0,
    "hideHardwareSpecs": false,
    "memoryGiB": 96,
    "name": "ml.c5.12xlarge",
    "vcpuNum": 48
   },
   {
    "_defaultOrder": 27,
    "_isFastLaunch": false,
    "category": "Compute optimized",
    "gpuNum": 0,
    "hideHardwareSpecs": false,
    "memoryGiB": 144,
    "name": "ml.c5.18xlarge",
    "vcpuNum": 72
   },
   {
    "_defaultOrder": 28,
    "_isFastLaunch": false,
    "category": "Compute optimized",
    "gpuNum": 0,
    "hideHardwareSpecs": false,
    "memoryGiB": 192,
    "name": "ml.c5.24xlarge",
    "vcpuNum": 96
   },
   {
    "_defaultOrder": 29,
    "_isFastLaunch": true,
    "category": "Accelerated computing",
    "gpuNum": 1,
    "hideHardwareSpecs": false,
    "memoryGiB": 16,
    "name": "ml.g4dn.xlarge",
    "vcpuNum": 4
   },
   {
    "_defaultOrder": 30,
    "_isFastLaunch": false,
    "category": "Accelerated computing",
    "gpuNum": 1,
    "hideHardwareSpecs": false,
    "memoryGiB": 32,
    "name": "ml.g4dn.2xlarge",
    "vcpuNum": 8
   },
   {
    "_defaultOrder": 31,
    "_isFastLaunch": false,
    "category": "Accelerated computing",
    "gpuNum": 1,
    "hideHardwareSpecs": false,
    "memoryGiB": 64,
    "name": "ml.g4dn.4xlarge",
    "vcpuNum": 16
   },
   {
    "_defaultOrder": 32,
    "_isFastLaunch": false,
    "category": "Accelerated computing",
    "gpuNum": 1,
    "hideHardwareSpecs": false,
    "memoryGiB": 128,
    "name": "ml.g4dn.8xlarge",
    "vcpuNum": 32
   },
   {
    "_defaultOrder": 33,
    "_isFastLaunch": false,
    "category": "Accelerated computing",
    "gpuNum": 4,
    "hideHardwareSpecs": false,
    "memoryGiB": 192,
    "name": "ml.g4dn.12xlarge",
    "vcpuNum": 48
   },
   {
    "_defaultOrder": 34,
    "_isFastLaunch": false,
    "category": "Accelerated computing",
    "gpuNum": 1,
    "hideHardwareSpecs": false,
    "memoryGiB": 256,
    "name": "ml.g4dn.16xlarge",
    "vcpuNum": 64
   },
   {
    "_defaultOrder": 35,
    "_isFastLaunch": false,
    "category": "Accelerated computing",
    "gpuNum": 1,
    "hideHardwareSpecs": false,
    "memoryGiB": 61,
    "name": "ml.p3.2xlarge",
    "vcpuNum": 8
   },
   {
    "_defaultOrder": 36,
    "_isFastLaunch": false,
    "category": "Accelerated computing",
    "gpuNum": 4,
    "hideHardwareSpecs": false,
    "memoryGiB": 244,
    "name": "ml.p3.8xlarge",
    "vcpuNum": 32
   },
   {
    "_defaultOrder": 37,
    "_isFastLaunch": false,
    "category": "Accelerated computing",
    "gpuNum": 8,
    "hideHardwareSpecs": false,
    "memoryGiB": 488,
    "name": "ml.p3.16xlarge",
    "vcpuNum": 64
   },
   {
    "_defaultOrder": 38,
    "_isFastLaunch": false,
    "category": "Accelerated computing",
    "gpuNum": 8,
    "hideHardwareSpecs": false,
    "memoryGiB": 768,
    "name": "ml.p3dn.24xlarge",
    "vcpuNum": 96
   },
   {
    "_defaultOrder": 39,
    "_isFastLaunch": false,
    "category": "Memory Optimized",
    "gpuNum": 0,
    "hideHardwareSpecs": false,
    "memoryGiB": 16,
    "name": "ml.r5.large",
    "vcpuNum": 2
   },
   {
    "_defaultOrder": 40,
    "_isFastLaunch": false,
    "category": "Memory Optimized",
    "gpuNum": 0,
    "hideHardwareSpecs": false,
    "memoryGiB": 32,
    "name": "ml.r5.xlarge",
    "vcpuNum": 4
   },
   {
    "_defaultOrder": 41,
    "_isFastLaunch": false,
    "category": "Memory Optimized",
    "gpuNum": 0,
    "hideHardwareSpecs": false,
    "memoryGiB": 64,
    "name": "ml.r5.2xlarge",
    "vcpuNum": 8
   },
   {
    "_defaultOrder": 42,
    "_isFastLaunch": false,
    "category": "Memory Optimized",
    "gpuNum": 0,
    "hideHardwareSpecs": false,
    "memoryGiB": 128,
    "name": "ml.r5.4xlarge",
    "vcpuNum": 16
   },
   {
    "_defaultOrder": 43,
    "_isFastLaunch": false,
    "category": "Memory Optimized",
    "gpuNum": 0,
    "hideHardwareSpecs": false,
    "memoryGiB": 256,
    "name": "ml.r5.8xlarge",
    "vcpuNum": 32
   },
   {
    "_defaultOrder": 44,
    "_isFastLaunch": false,
    "category": "Memory Optimized",
    "gpuNum": 0,
    "hideHardwareSpecs": false,
    "memoryGiB": 384,
    "name": "ml.r5.12xlarge",
    "vcpuNum": 48
   },
   {
    "_defaultOrder": 45,
    "_isFastLaunch": false,
    "category": "Memory Optimized",
    "gpuNum": 0,
    "hideHardwareSpecs": false,
    "memoryGiB": 512,
    "name": "ml.r5.16xlarge",
    "vcpuNum": 64
   },
   {
    "_defaultOrder": 46,
    "_isFastLaunch": false,
    "category": "Memory Optimized",
    "gpuNum": 0,
    "hideHardwareSpecs": false,
    "memoryGiB": 768,
    "name": "ml.r5.24xlarge",
    "vcpuNum": 96
   },
   {
    "_defaultOrder": 47,
    "_isFastLaunch": false,
    "category": "Accelerated computing",
    "gpuNum": 1,
    "hideHardwareSpecs": false,
    "memoryGiB": 16,
    "name": "ml.g5.xlarge",
    "vcpuNum": 4
   },
   {
    "_defaultOrder": 48,
    "_isFastLaunch": false,
    "category": "Accelerated computing",
    "gpuNum": 1,
    "hideHardwareSpecs": false,
    "memoryGiB": 32,
    "name": "ml.g5.2xlarge",
    "vcpuNum": 8
   },
   {
    "_defaultOrder": 49,
    "_isFastLaunch": false,
    "category": "Accelerated computing",
    "gpuNum": 1,
    "hideHardwareSpecs": false,
    "memoryGiB": 64,
    "name": "ml.g5.4xlarge",
    "vcpuNum": 16
   },
   {
    "_defaultOrder": 50,
    "_isFastLaunch": false,
    "category": "Accelerated computing",
    "gpuNum": 1,
    "hideHardwareSpecs": false,
    "memoryGiB": 128,
    "name": "ml.g5.8xlarge",
    "vcpuNum": 32
   },
   {
    "_defaultOrder": 51,
    "_isFastLaunch": false,
    "category": "Accelerated computing",
    "gpuNum": 1,
    "hideHardwareSpecs": false,
    "memoryGiB": 256,
    "name": "ml.g5.16xlarge",
    "vcpuNum": 64
   },
   {
    "_defaultOrder": 52,
    "_isFastLaunch": false,
    "category": "Accelerated computing",
    "gpuNum": 4,
    "hideHardwareSpecs": false,
    "memoryGiB": 192,
    "name": "ml.g5.12xlarge",
    "vcpuNum": 48
   },
   {
    "_defaultOrder": 53,
    "_isFastLaunch": false,
    "category": "Accelerated computing",
    "gpuNum": 4,
    "hideHardwareSpecs": false,
    "memoryGiB": 384,
    "name": "ml.g5.24xlarge",
    "vcpuNum": 96
   },
   {
    "_defaultOrder": 54,
    "_isFastLaunch": false,
    "category": "Accelerated computing",
    "gpuNum": 8,
    "hideHardwareSpecs": false,
    "memoryGiB": 768,
    "name": "ml.g5.48xlarge",
    "vcpuNum": 192
   }
  ],
  "instance_type": "ml.t3.medium",
  "kernelspec": {
   "display_name": "Python 3 (PyTorch 1.13 Python 3.9 CPU Optimized)",
   "language": "python",
   "name": "python3__SAGEMAKER_INTERNAL__arn:aws:sagemaker:us-west-2:236514542706:image/pytorch-1.13-cpu-py39"
  },
  "language_info": {
   "codemirror_mode": {
    "name": "ipython",
    "version": 3
   },
   "file_extension": ".py",
   "mimetype": "text/x-python",
   "name": "python",
   "nbconvert_exporter": "python",
   "pygments_lexer": "ipython3",
   "version": "3.9.16"
  }
 },
 "nbformat": 4,
 "nbformat_minor": 5
}
